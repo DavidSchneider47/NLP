{
 "cells": [
  {
   "cell_type": "markdown",
   "metadata": {},
   "source": [
    "# Import Libraries and Tools to Use"
   ]
  },
  {
   "cell_type": "code",
   "execution_count": 155,
   "metadata": {},
   "outputs": [
    {
     "name": "stderr",
     "output_type": "stream",
     "text": [
      "[nltk_data] Downloading package stopwords to\n",
      "[nltk_data]     C:\\Users\\schne\\AppData\\Roaming\\nltk_data...\n",
      "[nltk_data]   Package stopwords is already up-to-date!\n",
      "[nltk_data] Downloading package punkt to\n",
      "[nltk_data]     C:\\Users\\schne\\AppData\\Roaming\\nltk_data...\n",
      "[nltk_data]   Package punkt is already up-to-date!\n",
      "[nltk_data] Downloading package wordnet to\n",
      "[nltk_data]     C:\\Users\\schne\\AppData\\Roaming\\nltk_data...\n",
      "[nltk_data]   Package wordnet is already up-to-date!\n",
      "[nltk_data] Downloading package averaged_perceptron_tagger to\n",
      "[nltk_data]     C:\\Users\\schne\\AppData\\Roaming\\nltk_data...\n",
      "[nltk_data]   Package averaged_perceptron_tagger is already up-to-\n",
      "[nltk_data]       date!\n"
     ]
    }
   ],
   "source": [
    "import numpy as np\n",
    "import pandas as pd\n",
    "import nltk\n",
    "nltk.download('stopwords')\n",
    "nltk.download('punkt')\n",
    "nltk.download('wordnet')\n",
    "nltk.download('averaged_perceptron_tagger')\n",
    "from sklearn.model_selection import train_test_split\n",
    "from sklearn.feature_extraction.text import TfidfVectorizer\n",
    "from sklearn.linear_model import PassiveAggressiveClassifier\n",
    "from sklearn.feature_extraction.text import CountVectorizer\n",
    "from sklearn.metrics import accuracy_score, confusion_matrix\n",
    "from nltk.tokenize import word_tokenize\n",
    "from nltk import pos_tag\n",
    "from nltk.corpus import stopwords\n",
    "from nltk.stem import WordNetLemmatizer\n",
    "from sklearn.preprocessing import LabelEncoder\n",
    "from collections import defaultdict\n",
    "from nltk.corpus import wordnet as wn\n",
    "from sklearn.feature_extraction.text import TfidfVectorizer\n",
    "from sklearn import model_selection, naive_bayes, svm\n",
    "from sklearn.metrics import accuracy_score\n",
    "import tensorboard\n",
    "import tensorflow as tf\n",
    "import itertools"
   ]
  },
  {
   "cell_type": "markdown",
   "metadata": {},
   "source": [
    "# Import the Dataset "
   ]
  },
  {
   "cell_type": "code",
   "execution_count": 164,
   "metadata": {},
   "outputs": [
    {
     "data": {
      "text/html": [
       "<div>\n",
       "<style scoped>\n",
       "    .dataframe tbody tr th:only-of-type {\n",
       "        vertical-align: middle;\n",
       "    }\n",
       "\n",
       "    .dataframe tbody tr th {\n",
       "        vertical-align: top;\n",
       "    }\n",
       "\n",
       "    .dataframe thead th {\n",
       "        text-align: right;\n",
       "    }\n",
       "</style>\n",
       "<table border=\"1\" class=\"dataframe\">\n",
       "  <thead>\n",
       "    <tr style=\"text-align: right;\">\n",
       "      <th></th>\n",
       "      <th>ApplicationNumber</th>\n",
       "      <th>Random Number</th>\n",
       "      <th>Year</th>\n",
       "      <th>RecipientId</th>\n",
       "      <th>RecipientName</th>\n",
       "      <th>LineItemNumber</th>\n",
       "      <th>Text</th>\n",
       "      <th>SectionCode</th>\n",
       "      <th>Total</th>\n",
       "      <th>FTATotal</th>\n",
       "      <th>LocalTotal</th>\n",
       "      <th>Label</th>\n",
       "      <th>Classification</th>\n",
       "    </tr>\n",
       "  </thead>\n",
       "  <tbody>\n",
       "    <tr>\n",
       "      <th>0</th>\n",
       "      <td>MI-2018-004-00</td>\n",
       "      <td>0.000316</td>\n",
       "      <td>2018</td>\n",
       "      <td>7334</td>\n",
       "      <td>Central County Transportation Authority</td>\n",
       "      <td>11.42.07</td>\n",
       "      <td>Upgrades to existing ADA Hardware in board mee...</td>\n",
       "      <td>90</td>\n",
       "      <td>68750</td>\n",
       "      <td>55000</td>\n",
       "      <td>13750</td>\n",
       "      <td>0</td>\n",
       "      <td>Conventional</td>\n",
       "    </tr>\n",
       "    <tr>\n",
       "      <th>1</th>\n",
       "      <td>IA-2020-009-00</td>\n",
       "      <td>0.001544</td>\n",
       "      <td>2020</td>\n",
       "      <td>1832</td>\n",
       "      <td>DUBUQUE, THE CITY OF (INC)</td>\n",
       "      <td>11.42.07</td>\n",
       "      <td>Unit cost is $3,041: $2,432.80 Federal, $608.2...</td>\n",
       "      <td>34</td>\n",
       "      <td>399941</td>\n",
       "      <td>319953</td>\n",
       "      <td>79988</td>\n",
       "      <td>1</td>\n",
       "      <td>Innovative</td>\n",
       "    </tr>\n",
       "    <tr>\n",
       "      <th>2</th>\n",
       "      <td>SC-2019-001-00</td>\n",
       "      <td>0.001688</td>\n",
       "      <td>2019</td>\n",
       "      <td>5526</td>\n",
       "      <td>WACCAMAW REGIONAL TRANSPORTATION AUTHORITY, INC.</td>\n",
       "      <td>11.42.07</td>\n",
       "      <td>Waccamaw RTA will acquire two new servers from...</td>\n",
       "      <td>90</td>\n",
       "      <td>18000</td>\n",
       "      <td>14400</td>\n",
       "      <td>3600</td>\n",
       "      <td>0</td>\n",
       "      <td>Conventional</td>\n",
       "    </tr>\n",
       "    <tr>\n",
       "      <th>3</th>\n",
       "      <td>AL-2020-001-00</td>\n",
       "      <td>0.002720</td>\n",
       "      <td>2020</td>\n",
       "      <td>1073</td>\n",
       "      <td>Birmingham-Jefferson County Transit Authority</td>\n",
       "      <td>11.42.08</td>\n",
       "      <td>Purchase VM Ware Upgrade priced at $25,382 ($2...</td>\n",
       "      <td>90</td>\n",
       "      <td>163875</td>\n",
       "      <td>131100</td>\n",
       "      <td>32775</td>\n",
       "      <td>0</td>\n",
       "      <td>Conventional</td>\n",
       "    </tr>\n",
       "    <tr>\n",
       "      <th>4</th>\n",
       "      <td>MN-2020-032-00</td>\n",
       "      <td>0.003098</td>\n",
       "      <td>2020</td>\n",
       "      <td>1305</td>\n",
       "      <td>METROPOLITAN COUNCIL, MINNESOTA</td>\n",
       "      <td>11.42.10</td>\n",
       "      <td>This project will use FY 2019 5307 funds in th...</td>\n",
       "      <td>90</td>\n",
       "      <td>1675000</td>\n",
       "      <td>1340000</td>\n",
       "      <td>335000</td>\n",
       "      <td>1</td>\n",
       "      <td>Innovative</td>\n",
       "    </tr>\n",
       "  </tbody>\n",
       "</table>\n",
       "</div>"
      ],
      "text/plain": [
       "  ApplicationNumber  Random Number  Year  RecipientId  \\\n",
       "0    MI-2018-004-00       0.000316  2018         7334   \n",
       "1    IA-2020-009-00       0.001544  2020         1832   \n",
       "2    SC-2019-001-00       0.001688  2019         5526   \n",
       "3    AL-2020-001-00       0.002720  2020         1073   \n",
       "4    MN-2020-032-00       0.003098  2020         1305   \n",
       "\n",
       "                                      RecipientName LineItemNumber  \\\n",
       "0           Central County Transportation Authority       11.42.07   \n",
       "1                        DUBUQUE, THE CITY OF (INC)       11.42.07   \n",
       "2  WACCAMAW REGIONAL TRANSPORTATION AUTHORITY, INC.       11.42.07   \n",
       "3     Birmingham-Jefferson County Transit Authority       11.42.08   \n",
       "4                   METROPOLITAN COUNCIL, MINNESOTA       11.42.10   \n",
       "\n",
       "                                                Text  SectionCode    Total  \\\n",
       "0  Upgrades to existing ADA Hardware in board mee...           90    68750   \n",
       "1  Unit cost is $3,041: $2,432.80 Federal, $608.2...           34   399941   \n",
       "2  Waccamaw RTA will acquire two new servers from...           90    18000   \n",
       "3  Purchase VM Ware Upgrade priced at $25,382 ($2...           90   163875   \n",
       "4  This project will use FY 2019 5307 funds in th...           90  1675000   \n",
       "\n",
       "   FTATotal  LocalTotal  Label Classification  \n",
       "0     55000       13750      0   Conventional  \n",
       "1    319953       79988      1     Innovative  \n",
       "2     14400        3600      0   Conventional  \n",
       "3    131100       32775      0   Conventional  \n",
       "4   1340000      335000      1     Innovative  "
      ]
     },
     "execution_count": 164,
     "metadata": {},
     "output_type": "execute_result"
    }
   ],
   "source": [
    "#Read the data\n",
    "df=pd.read_excel('EBD3.xlsx')\n",
    "\n",
    "#Get shape and head\n",
    "df.shape\n",
    "df.head()"
   ]
  },
  {
   "cell_type": "markdown",
   "metadata": {},
   "source": [
    "# Do Some Prelimnary Analysis and Quality Checks "
   ]
  },
  {
   "cell_type": "code",
   "execution_count": 165,
   "metadata": {},
   "outputs": [
    {
     "data": {
      "text/plain": [
       "(200, 13)"
      ]
     },
     "execution_count": 165,
     "metadata": {},
     "output_type": "execute_result"
    }
   ],
   "source": [
    "df.shape"
   ]
  },
  {
   "cell_type": "code",
   "execution_count": 166,
   "metadata": {},
   "outputs": [
    {
     "name": "stdout",
     "output_type": "stream",
     "text": [
      "<class 'pandas.core.frame.DataFrame'>\n",
      "RangeIndex: 200 entries, 0 to 199\n",
      "Data columns (total 13 columns):\n",
      " #   Column             Non-Null Count  Dtype  \n",
      "---  ------             --------------  -----  \n",
      " 0   ApplicationNumber  200 non-null    object \n",
      " 1   Random Number      200 non-null    float64\n",
      " 2   Year               200 non-null    int64  \n",
      " 3   RecipientId        200 non-null    int64  \n",
      " 4   RecipientName      200 non-null    object \n",
      " 5   LineItemNumber     200 non-null    object \n",
      " 6   Text               200 non-null    object \n",
      " 7   SectionCode        200 non-null    int64  \n",
      " 8   Total              200 non-null    int64  \n",
      " 9   FTATotal           200 non-null    int64  \n",
      " 10  LocalTotal         200 non-null    int64  \n",
      " 11  Label              200 non-null    int64  \n",
      " 12  Classification     200 non-null    object \n",
      "dtypes: float64(1), int64(7), object(5)\n",
      "memory usage: 20.4+ KB\n"
     ]
    }
   ],
   "source": [
    "df.info()"
   ]
  },
  {
   "cell_type": "code",
   "execution_count": 167,
   "metadata": {},
   "outputs": [
    {
     "data": {
      "text/plain": [
       "ApplicationNumber    0\n",
       "Random Number        0\n",
       "Year                 0\n",
       "RecipientId          0\n",
       "RecipientName        0\n",
       "LineItemNumber       0\n",
       "Text                 0\n",
       "SectionCode          0\n",
       "Total                0\n",
       "FTATotal             0\n",
       "LocalTotal           0\n",
       "Label                0\n",
       "Classification       0\n",
       "dtype: int64"
      ]
     },
     "execution_count": 167,
     "metadata": {},
     "output_type": "execute_result"
    }
   ],
   "source": [
    "df.isnull().sum()"
   ]
  },
  {
   "cell_type": "code",
   "execution_count": 168,
   "metadata": {},
   "outputs": [
    {
     "name": "stdout",
     "output_type": "stream",
     "text": [
      "0\n"
     ]
    }
   ],
   "source": [
    "#check for duplicate rows--it looks like there may be one...\n",
    "print(df.duplicated().sum())"
   ]
  },
  {
   "cell_type": "code",
   "execution_count": 169,
   "metadata": {},
   "outputs": [
    {
     "data": {
      "text/plain": [
       "0      False\n",
       "1      False\n",
       "2      False\n",
       "3      False\n",
       "4      False\n",
       "       ...  \n",
       "195    False\n",
       "196    False\n",
       "197    False\n",
       "198    False\n",
       "199    False\n",
       "Length: 200, dtype: bool"
      ]
     },
     "execution_count": 169,
     "metadata": {},
     "output_type": "execute_result"
    }
   ],
   "source": [
    "#let's see if we can find it....\n",
    "df.duplicated()"
   ]
  },
  {
   "cell_type": "markdown",
   "metadata": {},
   "source": [
    "# Perform Some Exploratory Data Analysis "
   ]
  },
  {
   "cell_type": "code",
   "execution_count": 170,
   "metadata": {},
   "outputs": [
    {
     "data": {
      "text/html": [
       "<div>\n",
       "<style scoped>\n",
       "    .dataframe tbody tr th:only-of-type {\n",
       "        vertical-align: middle;\n",
       "    }\n",
       "\n",
       "    .dataframe tbody tr th {\n",
       "        vertical-align: top;\n",
       "    }\n",
       "\n",
       "    .dataframe thead th {\n",
       "        text-align: right;\n",
       "    }\n",
       "</style>\n",
       "<table border=\"1\" class=\"dataframe\">\n",
       "  <thead>\n",
       "    <tr style=\"text-align: right;\">\n",
       "      <th></th>\n",
       "      <th>Random Number</th>\n",
       "      <th>Year</th>\n",
       "      <th>RecipientId</th>\n",
       "      <th>SectionCode</th>\n",
       "      <th>Total</th>\n",
       "      <th>FTATotal</th>\n",
       "      <th>LocalTotal</th>\n",
       "      <th>Label</th>\n",
       "    </tr>\n",
       "  </thead>\n",
       "  <tbody>\n",
       "    <tr>\n",
       "      <th>count</th>\n",
       "      <td>200.000000</td>\n",
       "      <td>200.000000</td>\n",
       "      <td>200.000000</td>\n",
       "      <td>200.000000</td>\n",
       "      <td>2.000000e+02</td>\n",
       "      <td>2.000000e+02</td>\n",
       "      <td>2.000000e+02</td>\n",
       "      <td>200.000000</td>\n",
       "    </tr>\n",
       "    <tr>\n",
       "      <th>mean</th>\n",
       "      <td>0.080797</td>\n",
       "      <td>2019.135000</td>\n",
       "      <td>2114.630000</td>\n",
       "      <td>67.625000</td>\n",
       "      <td>5.766286e+05</td>\n",
       "      <td>4.687367e+05</td>\n",
       "      <td>1.078919e+05</td>\n",
       "      <td>0.405000</td>\n",
       "    </tr>\n",
       "    <tr>\n",
       "      <th>std</th>\n",
       "      <td>0.047516</td>\n",
       "      <td>0.836825</td>\n",
       "      <td>1764.147116</td>\n",
       "      <td>30.967553</td>\n",
       "      <td>4.427639e+06</td>\n",
       "      <td>3.546070e+06</td>\n",
       "      <td>8.905614e+05</td>\n",
       "      <td>0.492124</td>\n",
       "    </tr>\n",
       "    <tr>\n",
       "      <th>min</th>\n",
       "      <td>0.000316</td>\n",
       "      <td>2018.000000</td>\n",
       "      <td>1000.000000</td>\n",
       "      <td>16.000000</td>\n",
       "      <td>0.000000e+00</td>\n",
       "      <td>0.000000e+00</td>\n",
       "      <td>0.000000e+00</td>\n",
       "      <td>0.000000</td>\n",
       "    </tr>\n",
       "    <tr>\n",
       "      <th>25%</th>\n",
       "      <td>0.042929</td>\n",
       "      <td>2018.000000</td>\n",
       "      <td>1109.500000</td>\n",
       "      <td>34.000000</td>\n",
       "      <td>2.500000e+04</td>\n",
       "      <td>2.000000e+04</td>\n",
       "      <td>0.000000e+00</td>\n",
       "      <td>0.000000</td>\n",
       "    </tr>\n",
       "    <tr>\n",
       "      <th>50%</th>\n",
       "      <td>0.078344</td>\n",
       "      <td>2019.000000</td>\n",
       "      <td>1401.000000</td>\n",
       "      <td>90.000000</td>\n",
       "      <td>7.500000e+04</td>\n",
       "      <td>6.000000e+04</td>\n",
       "      <td>4.978500e+03</td>\n",
       "      <td>0.000000</td>\n",
       "    </tr>\n",
       "    <tr>\n",
       "      <th>75%</th>\n",
       "      <td>0.116887</td>\n",
       "      <td>2020.000000</td>\n",
       "      <td>1818.750000</td>\n",
       "      <td>90.000000</td>\n",
       "      <td>2.015528e+05</td>\n",
       "      <td>1.650000e+05</td>\n",
       "      <td>2.692125e+04</td>\n",
       "      <td>1.000000</td>\n",
       "    </tr>\n",
       "    <tr>\n",
       "      <th>max</th>\n",
       "      <td>0.168873</td>\n",
       "      <td>2021.000000</td>\n",
       "      <td>7334.000000</td>\n",
       "      <td>95.000000</td>\n",
       "      <td>6.209300e+07</td>\n",
       "      <td>4.967440e+07</td>\n",
       "      <td>1.241860e+07</td>\n",
       "      <td>1.000000</td>\n",
       "    </tr>\n",
       "  </tbody>\n",
       "</table>\n",
       "</div>"
      ],
      "text/plain": [
       "       Random Number         Year  RecipientId  SectionCode         Total  \\\n",
       "count     200.000000   200.000000   200.000000   200.000000  2.000000e+02   \n",
       "mean        0.080797  2019.135000  2114.630000    67.625000  5.766286e+05   \n",
       "std         0.047516     0.836825  1764.147116    30.967553  4.427639e+06   \n",
       "min         0.000316  2018.000000  1000.000000    16.000000  0.000000e+00   \n",
       "25%         0.042929  2018.000000  1109.500000    34.000000  2.500000e+04   \n",
       "50%         0.078344  2019.000000  1401.000000    90.000000  7.500000e+04   \n",
       "75%         0.116887  2020.000000  1818.750000    90.000000  2.015528e+05   \n",
       "max         0.168873  2021.000000  7334.000000    95.000000  6.209300e+07   \n",
       "\n",
       "           FTATotal    LocalTotal       Label  \n",
       "count  2.000000e+02  2.000000e+02  200.000000  \n",
       "mean   4.687367e+05  1.078919e+05    0.405000  \n",
       "std    3.546070e+06  8.905614e+05    0.492124  \n",
       "min    0.000000e+00  0.000000e+00    0.000000  \n",
       "25%    2.000000e+04  0.000000e+00    0.000000  \n",
       "50%    6.000000e+04  4.978500e+03    0.000000  \n",
       "75%    1.650000e+05  2.692125e+04    1.000000  \n",
       "max    4.967440e+07  1.241860e+07    1.000000  "
      ]
     },
     "execution_count": 170,
     "metadata": {},
     "output_type": "execute_result"
    }
   ],
   "source": [
    "#obtain some descriptive statistics....\n",
    "df.describe()"
   ]
  },
  {
   "cell_type": "code",
   "execution_count": 171,
   "metadata": {},
   "outputs": [
    {
     "data": {
      "text/plain": [
       "0    119\n",
       "1     81\n",
       "Name: Label, dtype: int64"
      ]
     },
     "execution_count": 171,
     "metadata": {},
     "output_type": "execute_result"
    }
   ],
   "source": [
    "# identify the numebr of 0 (conventional) and 1 (innoovative ) technologies\n",
    "count_label=df['Label'].value_counts()\n",
    "count_label"
   ]
  },
  {
   "cell_type": "code",
   "execution_count": 172,
   "metadata": {},
   "outputs": [
    {
     "data": {
      "text/plain": [
       "0    0.595\n",
       "1    0.405\n",
       "Name: Label, dtype: float64"
      ]
     },
     "execution_count": 172,
     "metadata": {},
     "output_type": "execute_result"
    }
   ],
   "source": [
    "#express the technology breakdown as a proportion\n",
    "(count_label[:2]/df.shape[0])"
   ]
  },
  {
   "cell_type": "code",
   "execution_count": 173,
   "metadata": {},
   "outputs": [
    {
     "data": {
      "text/plain": [
       "Label\n",
       "0    586797.638655\n",
       "1    295289.197531\n",
       "Name: FTATotal, dtype: float64"
      ]
     },
     "execution_count": 173,
     "metadata": {},
     "output_type": "execute_result"
    }
   ],
   "source": [
    "#mean FTA award amount by technology type \n",
    "df.groupby(by='Label')['FTATotal'].mean()"
   ]
  },
  {
   "cell_type": "code",
   "execution_count": 174,
   "metadata": {},
   "outputs": [
    {
     "data": {
      "text/plain": [
       "Label\n",
       "0    60305\n",
       "1    57568\n",
       "Name: FTATotal, dtype: int64"
      ]
     },
     "execution_count": 174,
     "metadata": {},
     "output_type": "execute_result"
    }
   ],
   "source": [
    "#median award amount by technology type \n",
    "df.groupby(by='Label')['FTATotal'].median()"
   ]
  },
  {
   "cell_type": "code",
   "execution_count": 175,
   "metadata": {},
   "outputs": [
    {
     "data": {
      "text/plain": [
       "Label\n",
       "0    4.568232e+06\n",
       "1    6.683960e+05\n",
       "Name: FTATotal, dtype: float64"
      ]
     },
     "execution_count": 175,
     "metadata": {},
     "output_type": "execute_result"
    }
   ],
   "source": [
    "#standard deviation of the award amount by technology type \n",
    "df.groupby(by='Label')['FTATotal'].std()"
   ]
  },
  {
   "cell_type": "code",
   "execution_count": 176,
   "metadata": {},
   "outputs": [
    {
     "name": "stderr",
     "output_type": "stream",
     "text": [
      "C:\\Users\\schne\\anaconda3\\lib\\site-packages\\numpy\\core\\_asarray.py:83: VisibleDeprecationWarning: Creating an ndarray from ragged nested sequences (which is a list-or-tuple of lists-or-tuples-or ndarrays with different lengths or shapes) is deprecated. If you meant to do this, you must specify 'dtype=object' when creating the ndarray\n",
      "  return array(a, dtype, copy=False, order=order)\n"
     ]
    },
    {
     "data": {
      "text/plain": [
       "<matplotlib.axes._subplots.AxesSubplot at 0x2308c7c0c70>"
      ]
     },
     "execution_count": 176,
     "metadata": {},
     "output_type": "execute_result"
    },
    {
     "data": {
      "image/png": "[encoded data removed]",
      "text/plain": [
       "<Figure size 432x288 with 1 Axes>"
      ]
     },
     "metadata": {
      "needs_background": "light"
     },
     "output_type": "display_data"
    }
   ],
   "source": [
    "#boxplots of award aount by technology \n",
    "df.boxplot(by ='Label', column =['FTATotal'], grid = False) "
   ]
  },
  {
   "cell_type": "code",
   "execution_count": 178,
   "metadata": {},
   "outputs": [
    {
     "data": {
      "text/html": [
       "<div>\n",
       "<style scoped>\n",
       "    .dataframe tbody tr th:only-of-type {\n",
       "        vertical-align: middle;\n",
       "    }\n",
       "\n",
       "    .dataframe tbody tr th {\n",
       "        vertical-align: top;\n",
       "    }\n",
       "\n",
       "    .dataframe thead th {\n",
       "        text-align: right;\n",
       "    }\n",
       "</style>\n",
       "<table border=\"1\" class=\"dataframe\">\n",
       "  <thead>\n",
       "    <tr style=\"text-align: right;\">\n",
       "      <th></th>\n",
       "      <th>FTATotal</th>\n",
       "      <th>LocalTotal</th>\n",
       "      <th>Random Number</th>\n",
       "      <th>RecipientId</th>\n",
       "      <th>SectionCode</th>\n",
       "      <th>Total</th>\n",
       "      <th>Year</th>\n",
       "    </tr>\n",
       "    <tr>\n",
       "      <th>Label</th>\n",
       "      <th></th>\n",
       "      <th></th>\n",
       "      <th></th>\n",
       "      <th></th>\n",
       "      <th></th>\n",
       "      <th></th>\n",
       "      <th></th>\n",
       "    </tr>\n",
       "  </thead>\n",
       "  <tbody>\n",
       "    <tr>\n",
       "      <th>0</th>\n",
       "      <td>586797.638655</td>\n",
       "      <td>138243.941176</td>\n",
       "      <td>0.085466</td>\n",
       "      <td>2145.848739</td>\n",
       "      <td>70.630252</td>\n",
       "      <td>725041.579832</td>\n",
       "      <td>2019.000000</td>\n",
       "    </tr>\n",
       "    <tr>\n",
       "      <th>1</th>\n",
       "      <td>295289.197531</td>\n",
       "      <td>63300.679012</td>\n",
       "      <td>0.073938</td>\n",
       "      <td>2068.765432</td>\n",
       "      <td>63.209877</td>\n",
       "      <td>358589.876543</td>\n",
       "      <td>2019.333333</td>\n",
       "    </tr>\n",
       "  </tbody>\n",
       "</table>\n",
       "</div>"
      ],
      "text/plain": [
       "            FTATotal     LocalTotal  Random Number  RecipientId  SectionCode  \\\n",
       "Label                                                                          \n",
       "0      586797.638655  138243.941176       0.085466  2145.848739    70.630252   \n",
       "1      295289.197531   63300.679012       0.073938  2068.765432    63.209877   \n",
       "\n",
       "               Total         Year  \n",
       "Label                              \n",
       "0      725041.579832  2019.000000  \n",
       "1      358589.876543  2019.333333  "
      ]
     },
     "execution_count": 178,
     "metadata": {},
     "output_type": "execute_result"
    }
   ],
   "source": [
    "#identify the mean FTA funding, local funding, and total funding by category \n",
    "pivot = pd.pivot_table(df, index='Label',  aggfunc='mean',fill_value=0)\n",
    "pivot.sort_values(by='Label')"
   ]
  },
  {
   "cell_type": "code",
   "execution_count": 179,
   "metadata": {},
   "outputs": [
    {
     "data": {
      "text/plain": [
       "90    122\n",
       "34     29\n",
       "16     20\n",
       "18     15\n",
       "54      6\n",
       "95      5\n",
       "79      1\n",
       "65      1\n",
       "26      1\n",
       "Name: SectionCode, dtype: int64"
      ]
     },
     "execution_count": 179,
     "metadata": {},
     "output_type": "execute_result"
    }
   ],
   "source": [
    "# identify the FTA funding programs funding all technologies \n",
    "count_code=df['SectionCode'].value_counts()\n",
    "count_code"
   ]
  },
  {
   "cell_type": "code",
   "execution_count": 180,
   "metadata": {},
   "outputs": [
    {
     "data": {
      "text/plain": [
       "90    0.610\n",
       "34    0.145\n",
       "16    0.100\n",
       "18    0.075\n",
       "54    0.030\n",
       "95    0.025\n",
       "79    0.005\n",
       "65    0.005\n",
       "26    0.005\n",
       "Name: SectionCode, dtype: float64"
      ]
     },
     "execution_count": 180,
     "metadata": {},
     "output_type": "execute_result"
    }
   ],
   "source": [
    "#show the proportion of funding programs funding all technologies \n",
    "(count_code/df.shape[0])"
   ]
  },
  {
   "cell_type": "code",
   "execution_count": 181,
   "metadata": {
    "scrolled": true
   },
   "outputs": [
    {
     "data": {
      "text/html": [
       "<div>\n",
       "<style scoped>\n",
       "    .dataframe tbody tr th:only-of-type {\n",
       "        vertical-align: middle;\n",
       "    }\n",
       "\n",
       "    .dataframe tbody tr th {\n",
       "        vertical-align: top;\n",
       "    }\n",
       "\n",
       "    .dataframe thead th {\n",
       "        text-align: right;\n",
       "    }\n",
       "</style>\n",
       "<table border=\"1\" class=\"dataframe\">\n",
       "  <thead>\n",
       "    <tr style=\"text-align: right;\">\n",
       "      <th></th>\n",
       "      <th>ApplicationNumber</th>\n",
       "      <th>Random Number</th>\n",
       "      <th>Year</th>\n",
       "      <th>RecipientId</th>\n",
       "      <th>RecipientName</th>\n",
       "      <th>LineItemNumber</th>\n",
       "      <th>Text</th>\n",
       "      <th>SectionCode</th>\n",
       "      <th>Total</th>\n",
       "      <th>FTATotal</th>\n",
       "      <th>LocalTotal</th>\n",
       "      <th>Label</th>\n",
       "      <th>Classification</th>\n",
       "    </tr>\n",
       "  </thead>\n",
       "  <tbody>\n",
       "    <tr>\n",
       "      <th>0</th>\n",
       "      <td>MI-2018-004-00</td>\n",
       "      <td>0.000316</td>\n",
       "      <td>2018</td>\n",
       "      <td>7334</td>\n",
       "      <td>Central County Transportation Authority</td>\n",
       "      <td>11.42.07</td>\n",
       "      <td>Upgrades to existing ADA Hardware in board mee...</td>\n",
       "      <td>90</td>\n",
       "      <td>68750</td>\n",
       "      <td>55000</td>\n",
       "      <td>13750</td>\n",
       "      <td>0</td>\n",
       "      <td>Conventional</td>\n",
       "    </tr>\n",
       "    <tr>\n",
       "      <th>2</th>\n",
       "      <td>SC-2019-001-00</td>\n",
       "      <td>0.001688</td>\n",
       "      <td>2019</td>\n",
       "      <td>5526</td>\n",
       "      <td>WACCAMAW REGIONAL TRANSPORTATION AUTHORITY, INC.</td>\n",
       "      <td>11.42.07</td>\n",
       "      <td>Waccamaw RTA will acquire two new servers from...</td>\n",
       "      <td>90</td>\n",
       "      <td>18000</td>\n",
       "      <td>14400</td>\n",
       "      <td>3600</td>\n",
       "      <td>0</td>\n",
       "      <td>Conventional</td>\n",
       "    </tr>\n",
       "    <tr>\n",
       "      <th>3</th>\n",
       "      <td>AL-2020-001-00</td>\n",
       "      <td>0.002720</td>\n",
       "      <td>2020</td>\n",
       "      <td>1073</td>\n",
       "      <td>Birmingham-Jefferson County Transit Authority</td>\n",
       "      <td>11.42.08</td>\n",
       "      <td>Purchase VM Ware Upgrade priced at $25,382 ($2...</td>\n",
       "      <td>90</td>\n",
       "      <td>163875</td>\n",
       "      <td>131100</td>\n",
       "      <td>32775</td>\n",
       "      <td>0</td>\n",
       "      <td>Conventional</td>\n",
       "    </tr>\n",
       "    <tr>\n",
       "      <th>5</th>\n",
       "      <td>PA-2020-010-00</td>\n",
       "      <td>0.003694</td>\n",
       "      <td>2020</td>\n",
       "      <td>5195</td>\n",
       "      <td>MID MON-VALLEY TRANSIT AUTHORITY</td>\n",
       "      <td>11.42.10</td>\n",
       "      <td>This Activity Line Item (ALI) will use Section...</td>\n",
       "      <td>90</td>\n",
       "      <td>75381</td>\n",
       "      <td>60305</td>\n",
       "      <td>15076</td>\n",
       "      <td>0</td>\n",
       "      <td>Conventional</td>\n",
       "    </tr>\n",
       "    <tr>\n",
       "      <th>7</th>\n",
       "      <td>NM-2018-002-00</td>\n",
       "      <td>0.007022</td>\n",
       "      <td>2018</td>\n",
       "      <td>1564</td>\n",
       "      <td>TRANSPORTATION, NEW MEXICO DEPARTMENT OF</td>\n",
       "      <td>11.42.07</td>\n",
       "      <td>ARCA to purchase 9 Smart Travel devices - $25,...</td>\n",
       "      <td>16</td>\n",
       "      <td>31723</td>\n",
       "      <td>25378</td>\n",
       "      <td>6345</td>\n",
       "      <td>0</td>\n",
       "      <td>Conventional</td>\n",
       "    </tr>\n",
       "  </tbody>\n",
       "</table>\n",
       "</div>"
      ],
      "text/plain": [
       "  ApplicationNumber  Random Number  Year  RecipientId  \\\n",
       "0    MI-2018-004-00       0.000316  2018         7334   \n",
       "2    SC-2019-001-00       0.001688  2019         5526   \n",
       "3    AL-2020-001-00       0.002720  2020         1073   \n",
       "5    PA-2020-010-00       0.003694  2020         5195   \n",
       "7    NM-2018-002-00       0.007022  2018         1564   \n",
       "\n",
       "                                      RecipientName LineItemNumber  \\\n",
       "0           Central County Transportation Authority       11.42.07   \n",
       "2  WACCAMAW REGIONAL TRANSPORTATION AUTHORITY, INC.       11.42.07   \n",
       "3     Birmingham-Jefferson County Transit Authority       11.42.08   \n",
       "5                  MID MON-VALLEY TRANSIT AUTHORITY       11.42.10   \n",
       "7          TRANSPORTATION, NEW MEXICO DEPARTMENT OF       11.42.07   \n",
       "\n",
       "                                                Text  SectionCode   Total  \\\n",
       "0  Upgrades to existing ADA Hardware in board mee...           90   68750   \n",
       "2  Waccamaw RTA will acquire two new servers from...           90   18000   \n",
       "3  Purchase VM Ware Upgrade priced at $25,382 ($2...           90  163875   \n",
       "5  This Activity Line Item (ALI) will use Section...           90   75381   \n",
       "7  ARCA to purchase 9 Smart Travel devices - $25,...           16   31723   \n",
       "\n",
       "   FTATotal  LocalTotal  Label Classification  \n",
       "0     55000       13750      0   Conventional  \n",
       "2     14400        3600      0   Conventional  \n",
       "3    131100       32775      0   Conventional  \n",
       "5     60305       15076      0   Conventional  \n",
       "7     25378        6345      0   Conventional  "
      ]
     },
     "execution_count": 181,
     "metadata": {},
     "output_type": "execute_result"
    }
   ],
   "source": [
    "#create a subset of only conventional technologies \n",
    "df1=df[(df.Classification=='Conventional')]\n",
    "df1.head()\n"
   ]
  },
  {
   "cell_type": "code",
   "execution_count": 182,
   "metadata": {},
   "outputs": [
    {
     "data": {
      "text/plain": [
       "90    79\n",
       "34    13\n",
       "18    12\n",
       "16     7\n",
       "54     5\n",
       "95     2\n",
       "65     1\n",
       "Name: SectionCode, dtype: int64"
      ]
     },
     "execution_count": 182,
     "metadata": {},
     "output_type": "execute_result"
    }
   ],
   "source": [
    "# count the number of funding programs for conventional technologies  \n",
    "count_code0=df1['SectionCode'].value_counts()\n",
    "count_code0"
   ]
  },
  {
   "cell_type": "code",
   "execution_count": 183,
   "metadata": {},
   "outputs": [
    {
     "data": {
      "text/plain": [
       "90    0.663866\n",
       "34    0.109244\n",
       "18    0.100840\n",
       "16    0.058824\n",
       "54    0.042017\n",
       "95    0.016807\n",
       "65    0.008403\n",
       "Name: SectionCode, dtype: float64"
      ]
     },
     "execution_count": 183,
     "metadata": {},
     "output_type": "execute_result"
    }
   ],
   "source": [
    "#identify the proportion of funding programs for conventional technologies \n",
    "(count_code0/df1.shape[0])"
   ]
  },
  {
   "cell_type": "code",
   "execution_count": 184,
   "metadata": {},
   "outputs": [
    {
     "data": {
      "text/html": [
       "<div>\n",
       "<style scoped>\n",
       "    .dataframe tbody tr th:only-of-type {\n",
       "        vertical-align: middle;\n",
       "    }\n",
       "\n",
       "    .dataframe tbody tr th {\n",
       "        vertical-align: top;\n",
       "    }\n",
       "\n",
       "    .dataframe thead th {\n",
       "        text-align: right;\n",
       "    }\n",
       "</style>\n",
       "<table border=\"1\" class=\"dataframe\">\n",
       "  <thead>\n",
       "    <tr style=\"text-align: right;\">\n",
       "      <th></th>\n",
       "      <th>ApplicationNumber</th>\n",
       "      <th>Random Number</th>\n",
       "      <th>Year</th>\n",
       "      <th>RecipientId</th>\n",
       "      <th>RecipientName</th>\n",
       "      <th>LineItemNumber</th>\n",
       "      <th>Text</th>\n",
       "      <th>SectionCode</th>\n",
       "      <th>Total</th>\n",
       "      <th>FTATotal</th>\n",
       "      <th>LocalTotal</th>\n",
       "      <th>Label</th>\n",
       "      <th>Classification</th>\n",
       "    </tr>\n",
       "  </thead>\n",
       "  <tbody>\n",
       "    <tr>\n",
       "      <th>0</th>\n",
       "      <td>MI-2018-004-00</td>\n",
       "      <td>0.000316</td>\n",
       "      <td>2018</td>\n",
       "      <td>7334</td>\n",
       "      <td>Central County Transportation Authority</td>\n",
       "      <td>11.42.07</td>\n",
       "      <td>Upgrades to existing ADA Hardware in board mee...</td>\n",
       "      <td>90</td>\n",
       "      <td>68750</td>\n",
       "      <td>55000</td>\n",
       "      <td>13750</td>\n",
       "      <td>0</td>\n",
       "      <td>Conventional</td>\n",
       "    </tr>\n",
       "    <tr>\n",
       "      <th>2</th>\n",
       "      <td>SC-2019-001-00</td>\n",
       "      <td>0.001688</td>\n",
       "      <td>2019</td>\n",
       "      <td>5526</td>\n",
       "      <td>WACCAMAW REGIONAL TRANSPORTATION AUTHORITY, INC.</td>\n",
       "      <td>11.42.07</td>\n",
       "      <td>Waccamaw RTA will acquire two new servers from...</td>\n",
       "      <td>90</td>\n",
       "      <td>18000</td>\n",
       "      <td>14400</td>\n",
       "      <td>3600</td>\n",
       "      <td>0</td>\n",
       "      <td>Conventional</td>\n",
       "    </tr>\n",
       "    <tr>\n",
       "      <th>3</th>\n",
       "      <td>AL-2020-001-00</td>\n",
       "      <td>0.002720</td>\n",
       "      <td>2020</td>\n",
       "      <td>1073</td>\n",
       "      <td>Birmingham-Jefferson County Transit Authority</td>\n",
       "      <td>11.42.08</td>\n",
       "      <td>Purchase VM Ware Upgrade priced at $25,382 ($2...</td>\n",
       "      <td>90</td>\n",
       "      <td>163875</td>\n",
       "      <td>131100</td>\n",
       "      <td>32775</td>\n",
       "      <td>0</td>\n",
       "      <td>Conventional</td>\n",
       "    </tr>\n",
       "    <tr>\n",
       "      <th>5</th>\n",
       "      <td>PA-2020-010-00</td>\n",
       "      <td>0.003694</td>\n",
       "      <td>2020</td>\n",
       "      <td>5195</td>\n",
       "      <td>MID MON-VALLEY TRANSIT AUTHORITY</td>\n",
       "      <td>11.42.10</td>\n",
       "      <td>This Activity Line Item (ALI) will use Section...</td>\n",
       "      <td>90</td>\n",
       "      <td>75381</td>\n",
       "      <td>60305</td>\n",
       "      <td>15076</td>\n",
       "      <td>0</td>\n",
       "      <td>Conventional</td>\n",
       "    </tr>\n",
       "    <tr>\n",
       "      <th>7</th>\n",
       "      <td>NM-2018-002-00</td>\n",
       "      <td>0.007022</td>\n",
       "      <td>2018</td>\n",
       "      <td>1564</td>\n",
       "      <td>TRANSPORTATION, NEW MEXICO DEPARTMENT OF</td>\n",
       "      <td>11.42.07</td>\n",
       "      <td>ARCA to purchase 9 Smart Travel devices - $25,...</td>\n",
       "      <td>16</td>\n",
       "      <td>31723</td>\n",
       "      <td>25378</td>\n",
       "      <td>6345</td>\n",
       "      <td>0</td>\n",
       "      <td>Conventional</td>\n",
       "    </tr>\n",
       "  </tbody>\n",
       "</table>\n",
       "</div>"
      ],
      "text/plain": [
       "  ApplicationNumber  Random Number  Year  RecipientId  \\\n",
       "0    MI-2018-004-00       0.000316  2018         7334   \n",
       "2    SC-2019-001-00       0.001688  2019         5526   \n",
       "3    AL-2020-001-00       0.002720  2020         1073   \n",
       "5    PA-2020-010-00       0.003694  2020         5195   \n",
       "7    NM-2018-002-00       0.007022  2018         1564   \n",
       "\n",
       "                                      RecipientName LineItemNumber  \\\n",
       "0           Central County Transportation Authority       11.42.07   \n",
       "2  WACCAMAW REGIONAL TRANSPORTATION AUTHORITY, INC.       11.42.07   \n",
       "3     Birmingham-Jefferson County Transit Authority       11.42.08   \n",
       "5                  MID MON-VALLEY TRANSIT AUTHORITY       11.42.10   \n",
       "7          TRANSPORTATION, NEW MEXICO DEPARTMENT OF       11.42.07   \n",
       "\n",
       "                                                Text  SectionCode   Total  \\\n",
       "0  Upgrades to existing ADA Hardware in board mee...           90   68750   \n",
       "2  Waccamaw RTA will acquire two new servers from...           90   18000   \n",
       "3  Purchase VM Ware Upgrade priced at $25,382 ($2...           90  163875   \n",
       "5  This Activity Line Item (ALI) will use Section...           90   75381   \n",
       "7  ARCA to purchase 9 Smart Travel devices - $25,...           16   31723   \n",
       "\n",
       "   FTATotal  LocalTotal  Label Classification  \n",
       "0     55000       13750      0   Conventional  \n",
       "2     14400        3600      0   Conventional  \n",
       "3    131100       32775      0   Conventional  \n",
       "5     60305       15076      0   Conventional  \n",
       "7     25378        6345      0   Conventional  "
      ]
     },
     "execution_count": 184,
     "metadata": {},
     "output_type": "execute_result"
    }
   ],
   "source": [
    "#create a subset of only conventional technologies \n",
    "df2=df[(df.Classification=='Innovative')]\n",
    "df1.head()\n"
   ]
  },
  {
   "cell_type": "code",
   "execution_count": 185,
   "metadata": {},
   "outputs": [
    {
     "data": {
      "text/plain": [
       "90    43\n",
       "34    16\n",
       "16    13\n",
       "95     3\n",
       "18     3\n",
       "79     1\n",
       "54     1\n",
       "26     1\n",
       "Name: SectionCode, dtype: int64"
      ]
     },
     "execution_count": 185,
     "metadata": {},
     "output_type": "execute_result"
    }
   ],
   "source": [
    "# count the number of funding programs for conventional technologies  \n",
    "count_code1=df2['SectionCode'].value_counts()\n",
    "count_code1"
   ]
  },
  {
   "cell_type": "code",
   "execution_count": 186,
   "metadata": {},
   "outputs": [
    {
     "data": {
      "text/plain": [
       "90    0.530864\n",
       "34    0.197531\n",
       "16    0.160494\n",
       "95    0.037037\n",
       "18    0.037037\n",
       "79    0.012346\n",
       "54    0.012346\n",
       "26    0.012346\n",
       "Name: SectionCode, dtype: float64"
      ]
     },
     "execution_count": 186,
     "metadata": {},
     "output_type": "execute_result"
    }
   ],
   "source": [
    "#identify the proportion of funding programs for conventional technologies \n",
    "(count_code1/df2.shape[0])"
   ]
  },
  {
   "cell_type": "code",
   "execution_count": 187,
   "metadata": {},
   "outputs": [
    {
     "data": {
      "text/plain": [
       "2019    40\n",
       "2018    40\n",
       "2020    38\n",
       "2021     1\n",
       "Name: Year, dtype: int64"
      ]
     },
     "execution_count": 187,
     "metadata": {},
     "output_type": "execute_result"
    }
   ],
   "source": [
    "count_year1=df1['Year'].value_counts()\n",
    "count_year1"
   ]
  },
  {
   "cell_type": "code",
   "execution_count": 188,
   "metadata": {},
   "outputs": [
    {
     "data": {
      "text/plain": [
       "2020    41\n",
       "2019    23\n",
       "2018    16\n",
       "2021     1\n",
       "Name: Year, dtype: int64"
      ]
     },
     "execution_count": 188,
     "metadata": {},
     "output_type": "execute_result"
    }
   ],
   "source": [
    "count_year2=df2['Year'].value_counts()\n",
    "count_year2"
   ]
  },
  {
   "cell_type": "code",
   "execution_count": 189,
   "metadata": {},
   "outputs": [],
   "source": [
    "# Total number of recipients in the data set\n",
    "#mean FTA award amount by technology type \n",
    "df3=df.groupby(by='RecipientName').sum()"
   ]
  },
  {
   "cell_type": "code",
   "execution_count": 190,
   "metadata": {},
   "outputs": [],
   "source": [
    "#export to csv to count unique recipients \n",
    "df3.to_csv('recipientsum.csv')"
   ]
  },
  {
   "cell_type": "code",
   "execution_count": 191,
   "metadata": {},
   "outputs": [],
   "source": [
    "#identify recipients with conventional technology \n",
    "df4=df1.groupby('RecipientName').sum()"
   ]
  },
  {
   "cell_type": "code",
   "execution_count": 192,
   "metadata": {},
   "outputs": [],
   "source": [
    "df4.to_csv('recipientconventional.csv')"
   ]
  },
  {
   "cell_type": "code",
   "execution_count": 193,
   "metadata": {},
   "outputs": [],
   "source": [
    "#identify recipients with innovative technology \n",
    "df5=df2.groupby('RecipientName').sum()"
   ]
  },
  {
   "cell_type": "code",
   "execution_count": 194,
   "metadata": {},
   "outputs": [],
   "source": [
    "df5.to_csv('recipientinnovative.csv')"
   ]
  },
  {
   "cell_type": "markdown",
   "metadata": {},
   "source": [
    "# Split the Data into Training and Test Sets"
   ]
  },
  {
   "cell_type": "code",
   "execution_count": 195,
   "metadata": {},
   "outputs": [],
   "source": [
    "#I'll use 70% of the data for testing and 30% of the data for training \n",
    "Train_X, Test_X, Train_Y, Test_Y = model_selection.train_test_split(df['Text'],df['Label'],test_size=0.3)"
   ]
  },
  {
   "cell_type": "code",
   "execution_count": 196,
   "metadata": {},
   "outputs": [
    {
     "name": "stdout",
     "output_type": "stream",
     "text": [
      "(140,) (140,)\n"
     ]
    }
   ],
   "source": [
    "#take a look at the amount of data in the training set \n",
    "print(Train_X.shape, Train_Y.shape)"
   ]
  },
  {
   "cell_type": "code",
   "execution_count": 197,
   "metadata": {},
   "outputs": [
    {
     "name": "stdout",
     "output_type": "stream",
     "text": [
      "(60,) (60,)\n"
     ]
    }
   ],
   "source": [
    "#take a look at the amount of data in the test set \n",
    "print(Test_X.shape,Test_Y.shape)"
   ]
  },
  {
   "cell_type": "markdown",
   "metadata": {},
   "source": [
    "# Prepare Data for Natural Language Processing "
   ]
  },
  {
   "cell_type": "code",
   "execution_count": 198,
   "metadata": {},
   "outputs": [
    {
     "name": "stdout",
     "output_type": "stream",
     "text": [
      "Acquire an updated fare box collection system that incorporates mobile ticketing and smart phone access for BC Transit riders. \n",
      "\n",
      "This acquisition will replace 30 units of the previous fare collection system that was purchased and installed in 2005.  This system has exceeded its 10 year useful life and will be disposed of at the time of the purchase.  FTA Region 2 will be notified when this occurs and any proceeds in excess of $5,000 per unit will be applied towards the purchase of the new fare boxes before any reimbursement can be calculated.  \n",
      "\n",
      "TIP#9FTE19\n"
     ]
    }
   ],
   "source": [
    "# Show the first four extended budget description texts \n",
    "sample_txt = Train_X[0:1]\n",
    "for word in sample_txt:\n",
    "    print(word)"
   ]
  },
  {
   "cell_type": "code",
   "execution_count": 199,
   "metadata": {},
   "outputs": [],
   "source": [
    "vectorizer=CountVectorizer()"
   ]
  },
  {
   "cell_type": "code",
   "execution_count": 200,
   "metadata": {},
   "outputs": [
    {
     "name": "stdout",
     "output_type": "stream",
     "text": [
      "['000', '10', '2005', '30', '9fte19', 'access', 'acquire', 'acquisition', 'an', 'and', 'any', 'applied', 'at', 'bc', 'be', 'before', 'box', 'boxes', 'calculated', 'can', 'collection', 'disposed', 'exceeded', 'excess', 'fare', 'for', 'fta', 'has', 'in', 'incorporates', 'installed', 'its', 'life', 'mobile', 'new', 'notified', 'occurs', 'of', 'per', 'phone', 'previous', 'proceeds', 'purchase', 'purchased', 'region', 'reimbursement', 'replace', 'riders', 'smart', 'system', 'that', 'the', 'this', 'ticketing', 'time', 'tip', 'towards', 'transit', 'unit', 'units', 'updated', 'useful', 'was', 'when', 'will', 'year']\n"
     ]
    }
   ],
   "source": [
    "# voc should have no punctuation, space, frequent words, ...\n",
    "vocabulary=vectorizer.fit(sample_txt)\n",
    "\n",
    "# get a set of word without duplicates \n",
    "print(vocabulary.get_feature_names())"
   ]
  },
  {
   "cell_type": "code",
   "execution_count": 201,
   "metadata": {},
   "outputs": [
    {
     "name": "stdout",
     "output_type": "stream",
     "text": [
      "[[1 1 1 1 1 1 1 1 1 4 2 1 1 1 4 1 1 1 1 1 2 1 1 1 3 1 1 1 2 1 1 1 1 1 1 1\n",
      "  1 5 1 1 1 1 2 1 1 1 1 1 1 3 2 5 3 1 1 1 1 1 1 1 1 1 1 1 4 1]]\n"
     ]
    }
   ],
   "source": [
    "#count the number of times a word appears in the corpus \n",
    "X= vectorizer.transform(sample_txt)\n",
    "print(X.toarray())"
   ]
  },
  {
   "cell_type": "code",
   "execution_count": 202,
   "metadata": {},
   "outputs": [
    {
     "name": "stdout",
     "output_type": "stream",
     "text": [
      "(140, 1624)\n",
      "(60, 1624)\n"
     ]
    }
   ],
   "source": [
    "#Initialize a TfidfVectorizer\n",
    "tfidf_vectorizer=TfidfVectorizer(stop_words='english', max_df=0.7) \n",
    "# max_df=0.7: ignore terms that have a document frequenc higher than the given threshold (corpus-specific stop words).\n",
    "\n",
    "#DataFlair - Fit and transform train set, transform test set\n",
    "\n",
    "Tfidf_vect = TfidfVectorizer(max_features=5000)\n",
    "Tfidf_vect.fit(df['Text'])\n",
    "tfidf_train=tfidf_vectorizer.fit_transform((Train_X)) \n",
    "tfidf_test=tfidf_vectorizer.transform(Test_X)\n",
    "\n",
    "# chech the dataset\n",
    "print(tfidf_train.shape)\n",
    "print(tfidf_test.shape)"
   ]
  },
  {
   "cell_type": "code",
   "execution_count": 203,
   "metadata": {},
   "outputs": [
    {
     "name": "stdout",
     "output_type": "stream",
     "text": [
      "Total words used: 1624\n",
      "Total count of non-zero: 45\n"
     ]
    }
   ],
   "source": [
    "# check the first sample\n",
    "sample_0 = tfidf_train[0,:].toarray()\n",
    "print(\"Total words used:\", sample_0[0].size)\n",
    "\n",
    "\n",
    "# check how many non-zeros: this is the number of words used in the first text\n",
    "non_zero = [ x for x in sample_0[0] if(x > 0)]\n",
    "print(\"Total count of non-zero:\", len(non_zero) )\n"
   ]
  },
  {
   "cell_type": "code",
   "execution_count": 204,
   "metadata": {},
   "outputs": [],
   "source": [
    "Tfidf_vect = TfidfVectorizer(max_features=5000)\n",
    "Tfidf_vect.fit(df['Text'])\n",
    "Train_X_Tfidf = Tfidf_vect.transform(Train_X)\n",
    "Test_X_Tfidf = Tfidf_vect.transform(Test_X)"
   ]
  },
  {
   "cell_type": "code",
   "execution_count": 205,
   "metadata": {},
   "outputs": [
    {
     "name": "stdout",
     "output_type": "stream",
     "text": [
      "{'upgrades': 2076, 'to': 2005, 'existing': 925, 'ada': 339, 'hardware': 1071, 'in': 1119, 'board': 506, 'meeting': 1326, 'training': 2023, 'room': 1764, 'fy': 1018, '2017': 98, '5307': 221, 'funding': 1013, 'will': 2162, 'be': 482, 'utilized': 2090, 'this': 1987, 'project': 1614, 'unit': 2061, 'cost': 695, 'is': 1184, '041': 14, '432': 200, '80': 278, 'federal': 957, '608': 239, '20': 88, 'local': 1263, 'the': 1977, 'onboard': 1448, 'computers': 645, 'are': 435, 'what': 2148, 'drivers': 835, 'use': 2084, 'guide': 1062, 'them': 1979, 'on': 1447, 'route': 1766, 'and': 399, 'keep': 1206, 'schedule': 1794, 'track': 2018, 'fares': 951, 'as': 440, 'passengers': 1512, 'receive': 1668, 'messages': 1331, 'from': 1001, 'dispatch': 807, 'provide': 1628, 'signal': 1842, 'for': 989, 'automatic': 462, 'vehicle': 2100, 'locator': 1270, 'new': 1408, 'replace': 1713, 'aging': 365, 'models': 1354, 'compatible': 627, 'with': 2167, 'verizon': 2106, 'technology': 1959, 'waccamaw': 2128, 'rta': 1773, 'acquire': 328, 'two': 2048, 'servers': 1826, 'state': 1891, 'contract': 678, 'at': 452, 'of': 1436, '17': 74, '500': 211, 'each': 847, 'totaling': 2013, '35': 171, '000': 1, 'useful': 2086, 'life': 1247, 'server': 1825, 'four': 996, 'years': 2186, 'purchase': 1639, 'vm': 2120, 'ware': 2132, 'upgrade': 2074, 'priced': 1583, '25': 133, '382': 181, '306': 157, '076': 21, 'bjcta': 503, 'certifies': 572, 'procurement': 1600, 'actions': 335, 'funded': 1012, 'grant': 1051, 'have': 1076, 'independent': 1134, 'estimates': 910, 'prepared': 1576, 'available': 466, 'file': 969, 'along': 384, 'corresponding': 692, 'price': 1582, 'analysis': 396, 'scope': 1800, 'work': 2170, 'follow': 984, 'all': 380, '3rd': 187, 'party': 1510, 'policies': 1565, 'defined': 757, 'c4220': 530, '1f': 87, 'third': 1986, 'contracting': 679, 'guidance': 1061, 'ensure': 891, 'contractors': 681, 'not': 1417, 'fta': 1002, 'suspension': 1934, 'debarment': 746, 'list': 1256, 'buy': 528, 'america': 390, 'requirements': 1729, 'under': 2053, 'section': 1808, '1605': 72, 'recovery': 1677, 'act': 333, 'statutory': 1897, 'provisions': 1634, '49': 208, 'chapter': 578, '53': 220, 'impose': 1111, 'sufficient': 1919, 'compliance': 634, '2019': 100, 'funds': 1014, 'amount': 392, '340': 169, 'plus': 1561, '335': 168, 'match': 1310, 'total': 2012, '675': 254, 'up': 2068, '100': 27, 'obsolete': 1429, 'bus': 523, 'fareboxes': 949, 'that': 1976, 'synchronize': 1939, 'transitmaster': 2030, 'system': 1941, 'transfer': 2026, 'data': 737, 'via': 2109, 'wifi': 2161, '15': 63, 'trf': 2039, 'tcmt': 1953, '20am': 118, 'activity': 337, 'line': 1254, 'item': 1187, 'ali': 379, 'ffy': 964, '60': 235, '305': 156, 'apportioned': 421, 'monessen': 1362, 'california': 535, 'pa': 1490, 'uza': 2093, 'apportionment': 422, 'these': 1983, 'used': 2085, 'fund': 1011, 'continuation': 672, 'an': 395, 'extended': 939, 'warranty': 2135, 'support': 1928, 'mmvta': 1349, 'fare': 947, 'collections': 609, 'attached': 453, 'please': 1560, 'refer': 1681, 'farebox': 948, 'payments': 1517, 'summary': 1922, 'current': 723, 'scheidt': 1798, 'bachmann': 472, 'included': 1125, '2022': 104, 'stip': 1898, 'mpms': 1382, '107897': 35, 'application': 416, 'documents': 822, 'budget': 518, 'description': 775, 'serves': 1827, 'include': 1124, 'following': 986, 'expand': 927, 'storage': 1901, 'desktop': 781, 'enterprise': 894, 'resource': 1735, 'planning': 1556, 'erp': 901, 'software': 1859, 'revenue': 1748, 'communications': 620, 'way': 2140, 'finding': 973, 'point': 1563, 'sale': 1783, 'devices': 792, 'security': 1810, 'cameras': 542, 'transit': 2028, 'centers': 570, 'well': 2144, 'other': 1478, 'sensitive': 1817, 'areas': 437, 'contained': 669, 'approved': 427, 'pima': 1548, 'association': 449, 'governments': 1048, 'regional': 1685, 'transportation': 2034, 'improvement': 1115, 'program': 1609, 'tip': 2002, '19': 82, '843': 286, '750': 270, 'share': 1833, 'city': 589, 'tucson': 2045, 'general': 1036, '168': 73, 'arca': 431, 'smart': 1854, 'travel': 2038, '378': 177, 'tablet': 1945, 'app': 415, 'mobile': 1350, 'gastonia': 1033, 'information': 1140, 'year': 2184, 'ten': 1968, '10': 26, 'para': 1499, 'tablets': 1946, '270': 143, '616': 241, '654': 249, 'envida': 897, 'routematch': 1767, 'platform': 1558, 'comprehensive': 642, 'supports': 1931, 'demand': 762, 'services': 1829, 'automated': 461, 'payment': 1516, 'fleet': 982, 'assignments': 444, 'scheduling': 1797, 'tools': 2010, 'including': 1127, 'personalized': 1534, 'mobility': 1351, 'options': 1467, 'pre': 1573, 'rider': 1756, 'trip': 2040, 'details': 786, 'lynx': 1281, 'passenger': 1511, 'counters': 702, 'comply': 638, 'circular': 586, '4220': 196, 'declares': 753, 'its': 1189, 'elements': 870, 'purchased': 1640, 'conform': 655, 'both': 511, 'national': 1396, 'architecture': 432, 'subrecipient': 1913, 'clermont': 594, 'senior': 1814, 'dispatching': 809, 'monitoring': 1366, 'activities': 336, 'sources': 1867, 'county': 706, 'ptc': 1635, 'develop': 789, 'test': 1972, 'deploy': 767, 'processes': 1594, 'improve': 1113, 'reliability': 1696, 'efficiency': 863, 'scrra': 1803, 'interoperable': 1171, 'electronic': 869, 'train': 2022, 'management': 1295, 'etms': 914, 'advancement': 355, 'non': 1414, 'vital': 2119, 'overlay': 1486, 'continue': 673, 'build': 521, 'out': 1480, 'initial': 1143, 'specific': 1874, 'tasks': 1950, 'implement': 1107, 'performance': 1527, 'service': 1828, 'log': 1271, 'analyzer': 398, 'help': 1080, 'identify': 1099, 'cause': 564, 'errors': 902, 'cut': 729, 'outs': 1483, 'component': 639, 'failures': 944, 'perform': 1526, 'additional': 343, 'encryption': 883, 'physical': 1541, 'firewalls': 976, 'secure': 1809, 'channels': 577, 'which': 2152, 'public': 1638, 'networks': 1407, 'such': 1918, 'cellular': 568, 'multiprotocol': 1389, 'label': 1219, 'switching': 1937, 'mpls': 1381, 'circuits': 585, 'necessary': 1400, 'testing': 1973, 'documentation': 821, 'moves': 1379, 'towards': 2016, 'provided': 1629, 'by': 529, 'railroad': 1658, 'administration': 347, 'fra': 997, 'through': 1991, 'proposition': 1625, '1b': 85, 'modernization': 1356, 'enhancement': 889, 'account': 320, 'ptmisea': 1637, 'amounts': 393, '200': 89, 'prop': 1619, '800': 279, 'ratio': 1660, 'pcpt': 1519, 'intelligent': 1161, 'enhance': 887, 'response': 1738, 'fixed': 980, 'items': 1188, 'may': 1317, 'utilize': 2089, 'many': 1301, 'currently': 724, 'has': 1074, 'place': 1550, 'award': 470, 'different': 796, 'vendors': 2104, 'paratransit': 1500, 'integration': 1159, 'needed': 1402, 'achieve': 327, 'best': 497, 'value': 2095, 'our': 1479, 'needs': 1403, 'cycle': 734, '11': 39, '42': 194, '08': 22, 'installation': 1150, 'real': 1666, 'time': 1998, 'supporting': 1930, 'applications': 417, 'miscellaneous': 1346, 'systems': 1942, 'operations': 1461, 'maintenance': 1290, 'finance': 971, 'mcat': 1318, '01': 5, '03': 11, '30': 151, '2024': 106, 'valued': 2096, '00': 0, 'or': 1469, 'greater': 1054, 'estimated': 909, 'three': 1989, 'agencies': 362, 'requested': 1723, 'been': 486, 'awarded': 471, 'alamo': 374, 'area': 436, 'council': 699, 'aacog': 309, 'presa': 1577, 'community': 621, 'center': 569, 'license': 1243, 'technical': 1956, 'ride': 1754, 'connect': 657, 'texas': 1974, 'assisted': 447, 'rides': 1759, 'renew': 1706, 'one': 1450, 'email': 877, 'spam': 1872, 'protection': 1626, 'appriver': 423, 'no': 1413, 'exceed': 919, '5339': 225, 'facilities': 941, '260': 139, '65': 247, 'racine': 1654, 'capital': 549, 'see': 1811, '294': 148, 'second': 1807, 'highlight': 1083, 'page': 1494, '68': 256, 'requests': 1725, '480': 206, 'adp': 351, 'specifically': 1875, 'asset': 442, 'five': 979, 'laptop': 1224, 'computer': 644, 'laptops': 1225, 'desktops': 782, 'remote': 1704, 'tele': 1960, 'working': 2171, 'human': 1095, 'relations': 1692, 'hr': 1092, 'accounting': 322, 'staff': 1885, 'home': 1086, 'during': 843, 'covid': 711, 'decision': 751, 'possible': 1571, 'remotely': 1705, 'because': 483, 'onslaught': 1454, 'pandemic': 1497, 'was': 2136, 'social': 1858, 'distancing': 815, 'did': 795, 'need': 1401, 'site': 1847, 'do': 818, 'their': 1978, 'we': 2141, 'expect': 929, 'return': 1747, 'office': 1438, 'quite': 1652, 'while': 2153, 'even': 916, 'after': 361, 'some': 1865, 'restrictions': 1741, 'lifted': 1248, 'order': 1471, 'mitigate': 1348, 'spread': 1880, 'among': 391, 'purposes': 1644, 'safe': 1781, 'acquisition': 331, 'projects': 1618, 'but': 527, 'limited': 1253, 'digital': 797, 'signage': 1841, 'increase': 1131, 'includes': 1126, 'closed': 597, 'circuit': 584, 'television': 1965, 'operator': 1462, 'lobbies': 1262, 'garages': 1030, 'news': 1411, 'job': 1198, 'related': 1690, 'per': 1524, 'irs': 1183, 'standards': 1886, '140': 59, '285': 146, '425': 197, 'licensing': 1245, 'programs': 1612, 'being': 491, 'replaced': 1714, 'met': 1333, 'considered': 659, 'replacement': 1715, 'kronos': 1217, 'trapeze': 2037, 'solomon': 1862, 'driver': 834, 'mate': 1313, 'etc': 912, 'id': 1096, '203784': 113, 'jet': 1196, 'vehicles': 2101, 'rural': 1777, 'subrecipients': 1914, 'authority': 458, 'nc': 1397, 'crawford': 713, 'endless': 885, 'mountains': 1377, 'pop': 1567, '95651': 302, 'network': 1405, 'equipment': 900, 'firewall': 975, 'routes': 1768, 'switches': 1936, 'if': 1101, 'over': 1484, 'revision': 1751, 'submitted': 1912, 'windows': 2164, 'datacenter': 741, 'licenses': 1244, 'operating': 1458, 'district': 817, 'virtual': 2114, 'infrastructure': 1142, 'introduces': 1176, 'improvements': 1116, 'virtualized': 2115, 'workload': 2172, 'smaller': 1853, 'footprint': 988, 'increased': 1132, 'cybersecurity': 733, 'original': 1475, '157': 68, '211': 120, 'formula': 991, '31': 161, '443': 201, 'tdc': 1954, 'docking': 819, 'stations': 1895, 'monitors': 1367, 'call': 536, 'phone': 1540, 'ctrtd': 720, '711': 263, '143': 62, 'admin': 346, 'reservationists': 1731, 'housed': 1089, 'satellite': 1788, 'offices': 1439, 'multi': 1387, 'modal': 1352, 'facility': 942, 'etcog': 913, '51': 214, '300': 152, 'star': 1887, '40': 188, 'it': 1186, 'migration': 1340, 'completed': 632, 'update': 2070, 'tripspark': 2042, 'rate': 1659, 'plan': 1552, 'determined': 788, 'based': 478, 'manufacturer': 1300, 'recommendation': 1672, 'once': 1449, 'procured': 1599, 'fy2018': 1023, '108': 36, 'aaata': 308, 'ann': 400, 'arbor': 430, 'ypsilanti': 2189, 'administrative': 348, 'safety': 1782, 'michigan': 1337, 'ctf': 719, '27': 142, '23110': 128, 'continual': 671, 'routine': 1769, 'contracts': 682, 'various': 2097, 'elkhart': 875, 'goshen': 1047, 'installed': 1151, 'maintained': 1288, 'gps': 1050, 'tracking': 2019, 'planned': 1553, 'milestone': 1342, 'dates': 744, 'listed': 1257, 'earliest': 849, 'latest': 1228, 'who': 2155, 'stated': 1892, 'above': 313, 'des': 773, '1400729': 61, '400': 189, '2020': 101, '5337': 224, 'rtc': 1774, 'tvm': 2046, 'key': 1209, 'modules': 1361, 'bill': 500, 'handling': 1069, 'units': 2063, 'longer': 1274, 'supported': 1929, 'part': 1503, 'replacements': 1716, '21z': 124, '1543': 66, 'narrative': 1394, 'april': 429, 'lambert': 1221, 'previously': 1581, 'ga': 1027, '011': 6, 'fiscal': 977, 'cares': 553, 'dollars': 825, 'intended': 1162, 'costs': 698, 'incurred': 1133, 'january': 1193, 'follows': 987, 'compilation': 629, 'descriptions': 776, 'case': 558, 'codes': 605, 'lightly': 1249, 'edited': 856, 'size': 1850, 'actual': 338, 'here': 1081, 'should': 1838, 'noted': 1419, 'request': 1722, 'due': 840, 'expenses': 934, 'between': 499, 'start': 1889, 'date': 742, 'albany': 375, '48': 205, '780': 274, 'fed': 956, 'serial': 1824, '111': 41, 'annual': 404, 'therefore': 1982, 'policy': 1566, 'comports': 641, 'followed': 985, 'updated': 2071, 'box': 513, 'collection': 608, 'incorporates': 1129, 'ticketing': 1995, 'access': 315, 'bc': 481, 'riders': 1757, 'previous': 1580, '2005': 90, 'exceeded': 920, 'disposed': 812, 'region': 1684, 'notified': 1420, 'when': 2149, 'occurs': 1431, 'any': 412, 'proceeds': 1592, 'excess': 921, 'applied': 418, 'boxes': 514, 'before': 487, 'reimbursement': 1689, 'can': 543, 'calculated': 534, '9fte19': 307, 'oftware': 1442, 'associated': 448, 'elderly': 867, 'persons': 1535, 'disabilities': 800, 'asotin': 441, 'garfield': 1031, 'whitman': 2154, 'counties': 703, 'matching': 1312, 'taxes': 1952, 'private': 1590, 'donations': 826, 'cash': 560, 'reserves': 1734, 'revenues': 1749, 'kind': 1212, 'contributions': 683, '2023': 105, 'washington': 2137, 'ptd': 1636, 'federally': 958, 'wfts': 2147, 'touchpass': 2014, 'were': 2145, 'delivered': 758, 'december': 750, '700': 260, 'coordinate': 686, 'trips': 2041, 'neighboring': 1404, 'south': 1869, 'plains': 1551, 'action': 334, 'inc': 1121, '32': 164, '155': 67, '431': 199, 'southwest': 1870, '601': 237, '321': 165, 'matched': 1311, 'amend': 387, 'scrpt': 1802, 'hard': 1070, 'operate': 1456, 'reliable': 1697, 'properly': 1620, 'consist': 661, 'replacing': 1717, 'upgrading': 2077, 'also': 385, 'procure': 1598, 'telephone': 1963, 'clintonville': 596, 'beechwold': 485, 'maximize': 1314, 'less': 1239, 'than': 1975, 'columbus': 612, 'federation': 959, 'settlements': 1830, 'source': 1866, 'capability': 547, 'satisfy': 1789, 'cyber': 732, 'measures': 1323, 'av': 464, 'supervisory': 1924, 'those': 1988, 'tech': 1955, 'stack': 1884, 'fusion': 1016, 'senor': 1816, 'internet': 1170, 'things': 1985, 'iot': 1181, 'bay': 480, 'street': 1907, 'innovation': 1146, 'corridor': 693, 'design': 777, 'consulting': 666, 'strategic': 1904, 'plans': 1557, 'upgraded': 2075, 'processing': 1595, 'pace': 1491, 'explore': 937, 'relating': 1691, 'hosting': 1088, 'environments': 898, 'cloud': 599, '110': 40, 'illinois': 1103, 'development': 791, 'credits': 716, 'number': 1425, '94': 299, '0024': 2, 'individual': 1135, 'expected': 931, 'added': 341, 'conducted': 650, 'grantee': 1052, 'procedures': 1591, 'described': 774, 'disabled': 802, 'individuals': 1136, 'using': 2088, '12': 45, '16': 69, 'hope': 1087, '101': 28, '365': 175, '341': 170, '126': 49, '706': 262, '04': 13, '553': 228, '764': 271, 'gpa': 1049, 'tab': 1943, '75': 269, 'vendor': 2103, 'portal': 1569, 'involves': 1180, 'implementation': 1108, 'customization': 727, 'infor': 1139, 'lawson': 1231, 'financial': 972, 'sourcing': 1868, 'supplier': 1925, 'rgrta': 1753, '2014': 95, '123': 47, 'ny': 1427, '90': 293, 'x706': 2179, 'however': 1091, 'implemented': 1109, 'allow': 382, 'department': 764, 'more': 1371, 'efficiently': 865, 'effectively': 861, 'conduct': 649, 'procurements': 1601, 'monitor': 1365, 'undertaken': 2054, 'utilizing': 2092, 'agreement': 366, 'managed': 1294, 'assistance': 446, 'relevant': 1695, 'micro': 1338, 'portable': 1568, 'projector': 1617, 'personal': 1533, 'macon': 1283, 'madison': 1285, '2016': 97, 'gadabout': 1028, 'mission': 1347, 'affordable': 360, 'older': 1446, 'adults': 353, 'people': 1523, 'disability': 801, 'within': 2168, 'tompkins': 2008, '3828': 183, '50': 210, '62': 242, 'name': 1392, 'coordinated': 687, 'york': 2188, '02': 8, '14': 58, 'pages': 1495, '37': 176, '250': 134, 'lu': 1279, 'emergency': 879, 'maintaining': 1289, 'communication': 619, 'impacted': 1105, 'coronavirus': 690, 'health': 1079, 'boise': 508, 'tma': 2004, 'moved': 1378, 'telework': 1966, 'status': 1896, 'business': 526, 'continuity': 676, 'ridematch': 1755, 'take': 1947, 'period': 1528, '09': 24, '21': 119, 'requirement': 1728, 'doesn': 824, 'apply': 420, 'costing': 696, 'acquired': 329, 'statewide': 1893, 'pay': 1514, 'relief': 1698, 'unless': 2065, 'substantial': 1916, 'functional': 1008, 'locational': 1268, 'capacity': 548, 'changes': 575, '23': 127, 'cfr': 573, '450': 203, '326': 166, '218': 123, 'video': 2110, 'mta': 1385, 'expects': 932, 'videos': 2111, 'approximately': 428, 'combined': 614, 'creating': 714, 'moving': 1380, '020': 9, 'taken': 1948, '113': 43, 'station': 1894, 'stops': 1900, 'terminals': 1971, 'shelter': 1836, '114': 44, 'came': 540, 'backup': 473, 'input': 1148, 'conference': 651, 'colts': 611, '13': 55, '154': 65, '523': 218, '569': 232, '410': 192, '928': 296, '11250': 42, 'shown': 1839, 'only': 1453, 'purchasing': 1642, 'vault': 2098, 'end': 884, 'day': 745, 'streamline': 1905, 'process': 1593, '55': 227, 'traditional': 2021, 'regulation': 1687, '661': 251, 'required': 1727, 'proposed': 1623, '2015': 96, 'fl': 981, '106': 34, 'hart': 1073, '5307p': 222, 'x831': 2181, 'x801': 2180, 'grants': 1053, 'card': 550, 'go': 1044, 'live': 1260, 'scheduled': 1795, 'summer': 1923, '2018': 99, 'eam': 848, 'phase': 1537, 'maintain': 1287, '640': 246, 'aided': 371, 'cad': 533, 'interactive': 1165, 'voice': 2121, 'ivr': 1190, 'location': 1267, 'avl': 469, 'dynamic': 846, 'messaging': 1332, 'signs': 1843, 'screens': 1801, 'websites': 2143, 'feed': 960, 'specification': 1876, 'gtfs': 1060, 'google': 1046, 'display': 810, 'terminal': 1970, 'mdc': 1320, 'internal': 1169, 'external': 940, 'head': 1077, 'counter': 701, 'apc': 413, 'ticket': 1994, 'vending': 2102, 'machine': 1282, 'registering': 1686, 'validating': 2094, 'smartcard': 1855, 'magnetic': 1286, 'farecard': 950, 'complaint': 630, 'scenario': 1793, 'voip': 2122, 'radio': 1655, 'recording': 1674, 'solution': 1863, 'surveillance': 1932, 'badge': 474, 'identification': 1097, 'enabled': 882, 'bonds': 510, 'tax': 1951, 'direct': 798, 'table': 1944, 'amendment': 389, 'ofs00005': 1440, 'buses': 525, 'investment': 1178, 'citme': 588, 'ultramain': 2051, 'version': 2107, 'gcrta': 1035, 'programmed': 1610, 'initiative': 1144, 'attachments': 454, '2021': 103, '18': 77, 'pid': 1544, '103905': 30, 'approval': 426, 'letter': 1240, 'dated': 743, 'june': 1203, '26': 138, 'opportunities': 1464, 'desk': 780, 'top': 2011, 'guidelines': 1063, 'waco': 2129, 'assist': 445, 'reducing': 1679, 'contact': 667, 'eliminating': 874, 'paper': 1498, 'cards': 551, 'reports': 1720, 'implementing': 1110, 'payroll': 1518, 'keeping': 1207, 'methods': 1335, 'timeclock': 1999, '150': 64, 'wts': 2177, 'searching': 1804, 'reduce': 1678, 'monit': 1364, 'accidents': 317, 'operators': 1463, 'driving': 837, 'behaviors': 490, 'educate': 858, 'how': 1090, 'handle': 1068, 'situations': 1848, 'eliminate': 873, 'another': 406, 'instance': 1152, 'where': 2150, 'transition': 2029, 'format': 990, 'later': 1227, '2025': 107, 'timekeeping': 2000, 'accounts': 323, 'payable': 1515, 'receivable': 1667, 'bmta': 505, 'technologies': 1958, '865': 288, '216': 122, 'located': 1266, 'jobnet': 1199, '200522': 91, 'invoked': 1179, 'gloversville': 1042, 'fulton': 1006, 'nysdot': 1428, 'pin': 1549, '2797': 144, '29': 147, '301': 153, 'qty': 1646, '951': 300, '939': 298, 'method': 1334, 'ogs': 1443, 'congressional': 656, 'dist': 813, 'rep': 1710, 'dick': 794, 'lenseth': 1238, 'parking': 1502, 'lot': 1275, '109': 37, 'st': 1883, '12078': 46, '838': 284, '048': 15, 'telemetrics': 1962, 'montgomery': 1368, '160': 70, 'quotes': 1653, 'radios': 1656, 'venner': 2105, 'rd': 1661, 'amsterdam': 394, 'oswego': 1477, 'oco': 1433, '3797': 178, '304': 155, 'ifb': 1102, '22': 125, '24': 131, 'laura': 1230, 'hacker': 1065, 'diagnostic': 793, '74': 267, 'pierce': 1546, 'drive': 833, 'equip': 899, '33': 167, '740': 268, '925': 295, 'repl': 1712, 'seon': 1818, 'camera': 541, 'dvrs': 845, 'schuyler': 1799, '6797': 255, '39': 185, '303': 154, '38': 179, '182': 80, '47': 204, '727': 266, 'lihua': 1250, 'shi': 1837, '203': 108, '12th': 54, 'watkins': 2139, 'glen': 1041, 'annunciation': 405, 'interior': 1168, '83658': 283, 'rfp': 1752, 'anticipate': 408, 'affect': 358, 'toward': 2015, 'minimum': 1344, 'remain': 1701, 'effective': 860, '56': 230, 'fy19': 1020, 'building': 522, 'canton': 545, 'massillon': 1308, 'alliance': 381, 'belden': 493, 'village': 2112, 'agreements': 367, 'sarta': 1787, 'owns': 1488, 'uses': 2087, 'without': 2169, 'yearly': 2185, 'would': 2175, 'able': 312, 'products': 1606, 'updates': 2072, 'purchases': 1641, 'segments': 1812, 'customer': 725, 'continued': 674, '93059': 297, '1287': 53, '70': 259, 'portion': 1570, 'paid': 1496, 'dedicated': 755, 'sales': 1785, 'revised': 1750, 'lease': 1234, 'remix': 1703, 'combines': 615, 'estimation': 911, 'demographic': 763, 'title': 2003, 'vi': 2108, 'isochrones': 1185, 'features': 955, 'term': 1969, 'sole': 1860, 'contains': 670, 'unique': 2060, 'innovative': 1147, 'concept': 646, 'companies': 623, 'provider': 1630, 'distributors': 816, 'exist': 924, 'justification': 1205, 'saas': 1780, 'completely': 633, 'found': 995, 'nassau': 1395, 'suffolk': 1920, '082681': 23, 'manager': 1296, 'chris': 583, 'chatterton': 580, 'principal': 1584, 'planner': 1554, '631': 245, '852': 287, '4058': 191, 'fax': 954, '4873': 207, 'duties': 844, 'product': 1603, 'configuration': 652, 'acceptance': 314, 'release': 1693, 'retainage': 1746, 'cnyrta': 600, 'old': 1445, 'reach': 1662, 'august': 457, '382261': 182, 'central': 571, 'listing': 1258, 'mike': 1341, 'fitzgibbons': 978, 'cortland': 694, 'ave': 467, 'syracuse': 1940, 'fy2020': 1025, 'sec': 1806, '258': 137, '662': 252, 'initiatives': 1145, 'identified': 1098, 'fy20': 1021, 'major': 1291, 'outdated': 1481, 'resources': 1736, 'integrated': 1157, 'streamlined': 1906, 'launch': 1229, 'transtrack': 2036, 'intelligence': 1160, 'warehouse': 2133, 'reporting': 1719, 'measurement': 1322, 'deployment': 769, '314': 163, '665': 253, 'jn': 1197, '203218': 110, '313': 162, '521': 217, '050': 17, '817': 281, '262': 141, '704': 261, 'run': 1776, 'roadblocks': 1762, 'easy': 853, 'scalable': 1790, 'grow': 1056, 'organization': 1474, 'grows': 1057, 'model': 1353, 'going': 1045, 'forward': 994, 'avail': 465, 'does': 823, 'meet': 1325, 'true': 2044, 'structure': 1908, 'exists': 926, 'count': 700, 'there': 1981, 'instances': 1153, 'counts': 705, 'none': 1415, 'additionally': 344, 'carrying': 556, 'causes': 565, 'clear': 593, 'picture': 1543, 'ridership': 1758, 'concise': 647, 'incorrectly': 1130, 'core': 689, 'written': 2176, 'sql': 1881, '2012': 94, 'since': 1844, 'microsoft': 1339, 'deemed': 756, 'leaves': 1236, 'gap': 1029, 'accuracy': 324, 'transmission': 2032, 'across': 332, 'compliant': 635, 'least': 1235, 'lastly': 1226, 'bugs': 520, 'cannot': 544, 'spent': 1879, '7m': 277, 'tool': 2009, 'supply': 1927, 'operation': 1459, 'install': 1149, '625': 243, 'aldot': 377, 'sub': 1911, 'recipients': 1671, 'regulatory': 1688, 'threshold': 1990, 'inclusion': 1128, 'clauses': 592, 'solicitation': 1861, 'orders': 1472, 'principals': 1585, 'affiliates': 359, 'suspended': 1933, 'debarred': 747, 'ineligible': 1138, 'participation': 1505, 'beechurst': 484, 'uninterruptable': 2058, 'power': 1572, 'ups': 2079, 'control': 684, 'cbtc': 566, 'providing': 1632, 'critical': 718, 'retain': 1745, 'periods': 1529, 'interruption': 1172, '957': 303, '87': 289, '965': 306, '185': 81, 'complete': 631, 'archiving': 434, 'wireless': 2165, 'downloading': 830, 'recordings': 1675, 'expense': 933, 'sign': 1840, 'appropriate': 425, 'research': 1730, 'proposal': 1622, 'released': 1694, 'uninterrupted': 2059, 'space': 1871, 'coast': 603, 'advertising': 356, 'marketing': 1305, 'cover': 708, 'until': 2067, 'september': 1823, 'called': 537, 'cts': 721, 'master': 1309, 'reserve': 1733, 'store': 1902, 'solutions': 1864, 'proposing': 1624, 'printers': 1587, 'so': 1857, 'delivery': 759, 'customers': 726, 'records': 1676, 'credit': 715, 'lucie': 1280, 'execution': 923, '035': 12, 'glptc': 1043, 'eligible': 872, '1382385': 57, 'baldwin': 475, 'requesting': 1724, 'integrating': 1158, '5000': 212, '96': 304, '832': 282, '208': 117, 'sharepoint': 1834, 'veam': 2099, 'debugging': 749, 'outlived': 1482, 'es': 903, '683': 257, '171': 75, 'fort': 992, 'bend': 495, 'technological': 1957, 'throughout': 1992, 'smtd': 1856, 'broadband': 517, 'wi': 2157, 'fi': 967, 'bandwidth': 477, 'capabilities': 546, 'underway': 2055, 'fully': 1005, 'interruptions': 1173, 'result': 1742, 'slow': 1851, 'adequately': 345, 'communicate': 618, 'announcements': 402, 'pushed': 1645, 'down': 829, 'property': 1621, '06': 18, 'incident': 1123, '07': 19, 'percent': 1525, 'subscription': 1915, 'monthly': 1370, 'basis': 479, 'cisco': 587, 'switch': 1935, 'assigned': 443, 'votran': 2125, 'fees': 962, 'quickly': 1651, 'ahead': 368, 'changing': 576, 'allowing': 383, 'planners': 1555, 'export': 938, 'dispatchers': 808, 'ffy20': 966, 'oxnard': 1489, '60860': 240, '233': 129, '352': 173, 'intends': 1163, 'utilizes': 2091, 'separate': 1819, 'numerous': 1426, 'functions': 1010, 'often': 1441, 'stored': 1903, 'sharing': 1835, 'must': 1390, 'costly': 697, 'complicated': 636, 'interfaces': 1167, 'manually': 1299, 'reenter': 1680, 'deposited': 770, 'then': 1980, 'analyze': 397, 'manipulate': 1298, 'aggregate': 364, 'automate': 460, 'resulting': 1743, 'ability': 311, 'make': 1292, 'better': 498, 'informed': 1141, 'decisions': 752, 'lead': 1233, 'ultimately': 2050, 'improved': 1114, 'phases': 1538, 'started': 1890, 'beginning': 488, 'march': 1303, 'below': 494, 'x686': 2178, '309': 158, '381': 180, '007': 4, '383': 184, '577': 233, '517': 215, '391': 186, 'findings': 974, 'ongoing': 1451, 'remaining': 1702, 'budgeting': 519, 'partner': 1506, 'they': 1984, 'progressed': 1613, 'feedback': 961, 'selected': 1813, 'seven': 1831, 'falls': 946, 'archived': 433, 'data1': 738, 'mart': 1306, 'data2': 739, 'coordinates': 688, 'genesee': 1037, 'gtc': 1059, 'whom': 2156, 'responsible': 1739, 'behalf': 489, 'engineering': 886, 'approach': 424, 'compatibility': 626, 'peripherals': 1531, 'accommodate': 318, 'six': 1849, 'optiplex': 1468, 'towers': 2017, 'twenty': 2047, 'grt0009': 1058, 'integrate': 1156, 'fairfield': 945, 'garmin': 1032, 'company': 625, 'had': 1066, 'bought': 512, 'proven': 1627, 'dependable': 765, 'overall': 1485, 'suits': 1921, 'guideway': 1064, 'high': 1082, 'intensity': 1164, 'modes': 1358, 'hrt0032': 1094, '2011': 93, 'enable': 881, '102': 29, 'small': 1852, 'urbanized': 2081, 'su': 1910, 'lowcountry': 1277, 'made': 1284, 'aid': 369, 'economic': 854, 'prevent': 1578, 'prepare': 1575, 'respond': 1737, 'represent': 1721, 'estimate': 908, 'mass': 1307, 'jacksonville': 1192, 'expansion': 928, 'examples': 918, 'gb': 1034, 'memory': 1329, '650': 248, 'points': 1564, 'tarc': 1949, 'typically': 2049, 'acquires': 330, 'multiple': 1388, 'parts': 1509, 'considers': 660, 'mdot': 1321, '28': 145, 'cata': 562, 'disaster': 803, 'cpu': 712, 'row': 1771, '127': 51, 'july': 1202, 'add': 340, 'code': 604, '257': 136, '401': 190, 'quantity': 1648, '412': 193, 'names': 1393, 'unsupported': 2066, 'nctd': 1398, 'reservations': 1732, 'jd': 1194, 'edwards': 859, 'franklin': 999, 'now': 1422, 'oracle': 1470, 'platforms': 1559, 'require': 1726, 'brand': 515, 'blackstone': 504, 'ms': 1384, 'exchange': 922, '600': 236, 'virginia': 2113, 'newgen': 1410, 'mapping': 1302, 'fy18': 1019, 'fy21': 1026, '109918': 38, 'ohio': 1444, '029': 10, 'daily': 736, 'quality': 1647, 'cognitive': 606, 'derived': 772, 'locally': 1264, 'developed': 790, 'lanta': 1223, 'jobs': 1200, 'schedules': 1796, 'operated': 1457, '95178': 301, 'scanner': 1791, 'dramatically': 832, 'functionality': 1009, 'function': 1007, 'vpn': 2126, 'efficient': 864, 'assure': 450, 'projected': 1615, 'determine': 787, 'future': 1017, 'courses': 707, 'emergencies': 878, 'complimentary': 637, 'reference': 1682, 'cl': 591, 'fy2019': 1024, 'notable': 1418, 'motor': 1376, 'coach': 602, '203192': 109, 'renewal': 1707, 'dossier': 828, 'ff': 963, 'covers': 710, 'preventive': 1579, 'inventory': 1177, '77343': 273, 'open': 1455, 'alerts': 378, 'covered': 709, 'competitively': 628, 'mpo': 1383, 'tran': 2024, 'agency': 363, 'adopted': 349, 'wa': 2127, '07324': 20, 'escambia': 904, 'module': 1360, 'same': 1786, 'programming': 1611, 'led': 1237, 'lcd': 1232, 'displays': 811, 'telecom': 1961, 'depreciated': 771, 'accordance': 319, 'urban': 2080, 'fargomat': 952, 'evaluated': 915, 'nd': 1399, 'kid': 1211, '890': 292, '712': 264, '178': 76, 'transports': 2035, 'children': 581, 'expectant': 930, 'mothers': 1374, 'care': 552, 'commission': 616, 'birmingham': 502, 'rpcgb': 1772, 'recipient': 1670, 'us': 2082, 'labor': 1220, 'united': 2062, 'alabama': 373, 'donor': 827, 'jefferson': 1195, 'designated': 778, '5310': 223, 'meets': 1327, '45': 202, 'designed': 779, 'carried': 554, 'seniors': 1815, 'insufficient': 1155, 'unavailable': 2052, 'inappropriate': 1120, 'consisting': 664, 'profit': 1608, 'providers': 1631, 'imposes': 1112, 'fy2017': 1022, 'discretionary': 804, 'd2018': 735, 'busc': 524, '090': 25, 'forty': 993, 'rvtd': 1778, 'counting': 704, 'conditions': 648, 'whether': 2151, 'priority': 1589, 'level': 1241, '180': 78, 'amended': 388, 'kn': 1214, '21366': 121, 'october': 1434, '3097': 159, 'lieu': 1246, 'components': 640, 'edp': 857, 'hastus': 1075, 'transmart': 2031, 'fleetwatch': 983, 'ellipse': 876, 'continuous': 677, 'logic': 1273, 'keyboards': 1210, 'drives': 836, 'cases': 559, 'supplies': 1926, 'motherboards': 1373, 'processors': 1597, 'wires': 2166, 'cables': 531, 'ftip': 1003, 'la0g1190': 1218, 'november': 1421, 'configured': 654, 'collecting': 607, 'boardings': 507, 'gfi': 1038, 'west': 2146, 'billing': 501, 'establish': 906, 'arrival': 438, 'times': 2001, 'chosen': 582, 'stop': 1899, 'locate': 1265, 'headways': 1078, 'accurately': 326, 'free': 1000, 'single': 1846, 'usage': 2083, 'locations': 1269, 'peripheral': 1530, 'durango': 842, 'auto': 459, 'po': 1562, '491001464': 209, 'either': 866, 'reader': 1664, 'entire': 895, 'hinesville': 1085, 'logged': 1272, 'clients': 595, 'picked': 1542, 'dropped': 838, 'off': 1437, 'reached': 1663, 'charge': 579, 'purpose': 1643, 'improving': 1118, 'depending': 766, 'limit': 1252, 'website': 2142, '128': 52, 'projection': 1616, '125': 48, 'perry': 1532, 'cac': 532, 'pike': 1547, 'stark': 1888, 'further': 1015, '54': 226, '528': 219, '005': 3, 'wilsonville': 2163, 'odot': 1435, '19321': 83, 'dispalys': 806, 'warranties': 2134, 'dell': 760, 'document': 820, 'image': 1104, 'updating': 2073, 'carta': 557, 'average': 468, 'albemarle': 376, 'harford': 1072, 'manage': 1293, 'monetary': 1363, 'transfers': 2027, 'printing': 1588, 'cutting': 730, 'tickets': 1996, 'month': 1369, '130': 56, '104': 31, '241740': 132, 'aberdeen': 310, 'bel': 492, 'air': 372, 'north': 1416, 'md': 1319, 'baltimore': 476, '1602': 71, '05': 16, '52': 216, '880': 291, '66': 250, 'originally': 1476, '2007': 92, '203527': 112, 'bond': 509, '260000': 140, 'ds': 839, '013': 7, 'benzie': 496, '105': 33, '253': 135, 'oceana': 1432, 'coa': 601, '877': 290, 'modem': 1355, 'audio': 455, 'visual': 2117, 'ffy18': 965, '580': 234, '420': 195, 'ympo': 2187, 'ycipta': 2183, 'quickbooks': 1650, 'easier': 851, 'auditing': 456, 'member': 1328, 'entity': 896, 'dues': 841, 'esri': 905, 'gis': 1039, 'wichita': 2158, 'anti': 407, 'virus': 2116, 'distance': 814, 'connectivity': 658, 'announcement': 401, '63': 244, 'oversee': 1487, 'configurations': 653, 'oregon': 1473, '20756': 115, 'consistent': 662, 'salem': 1784, 'keizer': 1208, 'metropolitan': 1336, 'pgs': 1536, 'operational': 1460, '81': 280, 'unified': 2056, 'study': 1909, '43': 198, 'mtd': 1386, 'pcs': 1520, 'productive': 1604, 'jta': 1201, 'assures': 451, 'calvert': 539, 'comprises': 643, 'ensures': 892, 'uniform': 2057, 'collier': 610, 'renovations': 1709, '350': 172, '900': 294, 'quick': 1649, 'restoration': 1740, 'failure': 943, 'expensive': 935, 'cumbersome': 722, 'change': 574, '1400664': 60, '1800095': 79, 'delta': 761, 'intercity': 1166, 'carrier': 555, 'workstations': 2174, 'span': 1873, 'refresh': 1683, 'processor': 1596, 'speed': 1877, 'productivity': 1605, 'robust': 1763, 'newer': 1409, 'compact': 622, 'profile': 1607, 'faster': 953, 'improves': 1117, 'workstation': 2173, 'cats': 563, 'knox': 1216, 'ads': 352, 'online': 1452, 'give': 1040, 'easily': 852, 'decrease': 754, 'spending': 1878, 'entered': 893, 'accountability': 321, 'debit': 748, 'septa': 1822, 'modernizing': 1357, 'antiquated': 410, 'contactless': 668, 'readers': 1665, 'kiosks': 1213, 'convenience': 685, 'instrument': 1154, 'widely': 2160, 'retail': 1744, 'establishments': 907, 'reloadable': 1699, 'automatically': 463, 'transaction': 2025, 'addition': 342, 'rail': 1657, 'customized': 728, 'cct': 567, 'enhanced': 888, 'wide': 2159, 'introduced': 1175, 'early': 850, 'adopters': 350, 'deployed': 768, 'trolley': 2043, 'trackless': 2020, 'lines': 1255, 'transpasses': 2033, 'passes': 1513, 'wallet': 2131, 'full': 1004, 'companion': 624, 'market': 1304, 'frankford': 998, 'broad': 516, 'fiber': 968, 'optics': 1465, 'electrical': 868, 'downtown': 831, 'temple': 1967, 'university': 2064, 'suburban': 1917, '30th': 160, 'zone': 2190, 'modifications': 1359, 'elevators': 871, 'waiting': 2130, 'provision': 1633, 'relocation': 1700, 'efficiencies': 862, 'enhancements': 890, 'loan': 1261, 'philadelphia': 1539, 'industrial': 1137, 'corporation': 691, 'pidc': 1545, 'partnership': 1508, 'lp': 1278, 'xxviii': 2182, 'partially': 1504, 'repayment': 1711, '297': 150, '77': 272, 'million': 1343, '686': 258, '559': 229, 'prejudice': 1574, '60611': 238, 'apcs': 414, '783': 275, 'rts': 1775, 'scat': 1792, 'volunteers': 2124, 'motion': 1375, 'rotates': 1765, 'contractor': 680, 'my': 1391, 'directly': 799, 'tied': 1997, 'accurate': 325, 'thus': 1993, 'experience': 936, 'consistently': 663, 'announcing': 403, 'destinations': 784, 'landmarks': 1222, 'upcoming': 2069, 'greatly': 1055, 'livability': 1259, 'visually': 2118, 'impaired': 1106, 'riding': 1760, 'identifying': 1100, 'advance': 354, 'maximized': 1315, 'arriving': 439, 'destination': 783, 'packages': 1493, 'combine': 613, 'into': 1174, 'employees': 880, 'like': 1251, 'separation': 1821, 'recommended': 1673, 'advisory': 357, 'sa': 1779, 'detailed': 785, '5010': 213, '1e': 86, 'separately': 1820, '1998': 84, 'files': 970, 'penndot': 1522, 'altoona': 386, 'know': 1215, 'discussions': 805, 'half': 1067, 'most': 1372, 'recent': 1669, 'ntd': 1424, 'accessories': 316, '2020s': 102, '203526': 111, 'manchester': 1297, 'mechanical': 1324, 'mer': 1330, 'noxubee': 1423, 'hra': 1093, 'seat': 1805, 'volume': 2123, 'calls': 538, 'consolidation': 665, 'watertown': 2138, 'routing': 1770, 'applies': 419, 'shah': 1832, 'obtained': 1430, 'upon': 2078, 'closeout': 598, '560': 231, 'partners': 1507, 'ipads': 1182, 'printer': 1586, '12694': 50, '23755': 130, '104463': 32, 'maximum': 1316, 'aide': 370, 'continuing': 675, '220': 126, 'networking': 1406, 'toledo': 2006, 'pd': 1521, 'criminal': 717, 'justice': 1204, 'newsboys': 1412, 'package': 1492, 'database': 740, '207733': 116, 'misc': 1345, 'inception': 1122, '205102': 114, 'cvtd': 731, 'anticipated': 409, 'reported': 1718, 'ssa': 1882, 'renewals': 1708, 'exactvision': 917, 'eden': 855, 'hill': 1084, 'swoop': 1938, '720': 265, '2944': 149, 'teletrac': 1964, '3520': 174, '84': 285, '964': 305, '784': 276, 'singing': 1845, 'river': 1761, 'jackson': 1191, 'civic': 590, 'committee': 617, 'antivirus': 411, 'lextran': 1242, 'procuring': 1602, 'cashless': 561, 'option': 1466, 'park': 1501, 'lots': 1276, 'toll': 2007}\n"
     ]
    }
   ],
   "source": [
    "#show all of the words \n",
    "print(Tfidf_vect.vocabulary_)"
   ]
  },
  {
   "cell_type": "code",
   "execution_count": 206,
   "metadata": {},
   "outputs": [
    {
     "name": "stdout",
     "output_type": "stream",
     "text": [
      "  (0, 2184)\t0.09944694678803379\n",
      "  (0, 2162)\t0.14628111799087823\n",
      "  (0, 2149)\t0.12244244134228723\n",
      "  (0, 2136)\t0.09757449404770056\n",
      "  (0, 2086)\t0.04399832962448431\n",
      "  (0, 2071)\t0.12244244134228723\n",
      "  (0, 2063)\t0.11825882270682617\n",
      "  (0, 2061)\t0.12244244134228723\n",
      "  (0, 2028)\t0.06544721025306746\n",
      "  (0, 2016)\t0.10363056542349484\n",
      "  (0, 2002)\t0.08063507086924142\n",
      "  (0, 1998)\t0.0787626181289082\n",
      "  (0, 1995)\t0.1412543172610796\n",
      "  (0, 1987)\t0.12976418082639735\n",
      "  (0, 1977)\t0.17009176300426787\n",
      "  (0, 1976)\t0.12562041108655336\n",
      "  (0, 1941)\t0.1854695848513471\n",
      "  (0, 1854)\t0.11143819936157431\n",
      "  (0, 1757)\t0.12739061194720586\n",
      "  (0, 1713)\t0.0911589498656599\n",
      "  (0, 1689)\t0.1412543172610796\n",
      "  (0, 1684)\t0.1412543172610796\n",
      "  (0, 1640)\t0.08976686010962108\n",
      "  (0, 1639)\t0.08952576318788373\n",
      "  (0, 1592)\t0.1412543172610796\n",
      "  :\t:\n",
      "  (139, 426)\t0.15534506996399383\n",
      "  (139, 399)\t0.06702988297888372\n",
      "  (139, 392)\t0.054282218327928775\n",
      "  (139, 389)\t0.07131464257322721\n",
      "  (139, 388)\t0.10000360225414232\n",
      "  (139, 371)\t0.08764793984405944\n",
      "  (139, 351)\t0.18880984507168114\n",
      "  (139, 337)\t0.10856443665585755\n",
      "  (139, 235)\t0.08367030498331009\n",
      "  (139, 225)\t0.08042034066259099\n",
      "  (139, 202)\t0.17529587968811888\n",
      "  (139, 188)\t0.07529227743397657\n",
      "  (139, 159)\t0.10000360225414232\n",
      "  (139, 143)\t0.09277600307267385\n",
      "  (139, 127)\t0.07529227743397657\n",
      "  (139, 121)\t0.10000360225414232\n",
      "  (139, 119)\t0.07767253498199692\n",
      "  (139, 103)\t0.07529227743397657\n",
      "  (139, 100)\t0.05498134530239496\n",
      "  (139, 99)\t0.059873306365613485\n",
      "  (139, 98)\t0.06663788073801165\n",
      "  (139, 78)\t0.10000360225414232\n",
      "  (139, 77)\t0.08367030498331009\n",
      "  (139, 25)\t0.10000360225414232\n",
      "  (139, 1)\t0.07032396309089549\n"
     ]
    }
   ],
   "source": [
    "print(Train_X_Tfidf)"
   ]
  },
  {
   "cell_type": "markdown",
   "metadata": {},
   "source": [
    "# Fit the Data to Some Classification Algorithms"
   ]
  },
  {
   "cell_type": "code",
   "execution_count": 207,
   "metadata": {},
   "outputs": [
    {
     "name": "stdout",
     "output_type": "stream",
     "text": [
      "Naive Bayes Accuracy Score ->  50.0\n"
     ]
    }
   ],
   "source": [
    "# fit the training dataset on the NB classifier\n",
    "Naive = naive_bayes.MultinomialNB()\n",
    "Naive.fit(Train_X_Tfidf,Train_Y)\n",
    "# predict the labels on validation dataset\n",
    "predictions_NB = Naive.predict(Test_X_Tfidf)\n",
    "# Use accuracy_score function to get the accuracy\n",
    "print(\"Naive Bayes Accuracy Score -> \",accuracy_score(predictions_NB, Test_Y)*100)"
   ]
  },
  {
   "cell_type": "code",
   "execution_count": 208,
   "metadata": {},
   "outputs": [
    {
     "name": "stdout",
     "output_type": "stream",
     "text": [
      "SVM Accuracy Score ->  56.666666666666664\n"
     ]
    }
   ],
   "source": [
    "# Classifier - Algorithm - SVM\n",
    "# fit the training dataset on the classifier\n",
    "SVM = svm.SVC(C=1.0, kernel='linear', degree=3, gamma='auto')\n",
    "SVM.fit(Train_X_Tfidf,Train_Y)\n",
    "# predict the labels on validation dataset\n",
    "predictions_SVM = SVM.predict(Test_X_Tfidf)\n",
    "# Use accuracy_score function to get the accuracy\n",
    "print(\"SVM Accuracy Score -> \",accuracy_score(predictions_SVM, Test_Y)*100)"
   ]
  },
  {
   "cell_type": "code",
   "execution_count": 209,
   "metadata": {},
   "outputs": [
    {
     "name": "stdout",
     "output_type": "stream",
     "text": [
      "Accuracy: 70.0%\n"
     ]
    }
   ],
   "source": [
    "#Initialize a PassiveAggressiveClassifier\n",
    "pac=PassiveAggressiveClassifier(max_iter=50)\n",
    "pac.fit(tfidf_train,Train_Y)\n",
    "\n",
    "#DataFlair - Predict on the test set and calculate accuracy\n",
    "y_pred=pac.predict(tfidf_test)\n",
    "score=accuracy_score(Test_Y,y_pred)\n",
    "print(f'Accuracy: {round(score*100,2)}%')"
   ]
  },
  {
   "cell_type": "code",
   "execution_count": 210,
   "metadata": {},
   "outputs": [
    {
     "data": {
      "text/plain": [
       "array([[26,  4],\n",
       "       [14, 16]], dtype=int64)"
      ]
     },
     "execution_count": 210,
     "metadata": {},
     "output_type": "execute_result"
    }
   ],
   "source": [
    "#Take a Closer Look at False Negatives and Positives with a confusion matrix\n",
    "confusion_matrix(Test_Y,y_pred)"
   ]
  },
  {
   "cell_type": "markdown",
   "metadata": {},
   "source": [
    "# Run the data through a DNN"
   ]
  },
  {
   "cell_type": "code",
   "execution_count": 211,
   "metadata": {},
   "outputs": [],
   "source": [
    "Train_Y = Train_Y.map(lambda x:1 if x==\"REAL\" else 0)\n",
    "Test_Y  = Test_Y.map(lambda x:1 if x==\"REAL\" else 0)"
   ]
  },
  {
   "cell_type": "code",
   "execution_count": 212,
   "metadata": {},
   "outputs": [],
   "source": [
    "tfidf_train = tfidf_train.todense()\n",
    "tfidf_test =  tfidf_test.todense()"
   ]
  },
  {
   "cell_type": "code",
   "execution_count": 215,
   "metadata": {},
   "outputs": [
    {
     "name": "stdout",
     "output_type": "stream",
     "text": [
      "Model: \"sequential_9\"\n",
      "_________________________________________________________________\n",
      "Layer (type)                 Output Shape              Param #   \n",
      "=================================================================\n",
      "dense_36 (Dense)             (None, 64)                104000    \n",
      "_________________________________________________________________\n",
      "dense_37 (Dense)             (None, 128)               8320      \n",
      "_________________________________________________________________\n",
      "dense_38 (Dense)             (None, 2)                 258       \n",
      "=================================================================\n",
      "Total params: 112,578\n",
      "Trainable params: 112,578\n",
      "Non-trainable params: 0\n",
      "_________________________________________________________________\n",
      "None\n"
     ]
    }
   ],
   "source": [
    "# USING DNN\n",
    "\n",
    "from tensorflow.keras.utils import plot_model\n",
    "from tensorflow.keras.models import Model\n",
    "from tensorflow.keras.layers import Input\n",
    "\n",
    "\n",
    "model = tf.keras.models.Sequential([\n",
    "    tf.keras.layers.Dense(64, input_dim=1624, activation='relu'),\n",
    "    tf.keras.layers.Dense(128, activation='relu'),\n",
    "    tf.keras.layers.Dense(2, activation='softmax')\n",
    "])\n",
    "\n",
    "model.compile(optimizer='adam',  loss='sparse_categorical_crossentropy',  metrics=['accuracy'])\n",
    "\n",
    "\n",
    "# summarize layers\n",
    "print(model.summary())"
   ]
  },
  {
   "cell_type": "code",
   "execution_count": 216,
   "metadata": {},
   "outputs": [
    {
     "name": "stdout",
     "output_type": "stream",
     "text": [
      "Epoch 1/5\n",
      "3/3 [==============================] - 0s 2ms/step - loss: 0.6754 - accuracy: 0.9000\n",
      "Epoch 2/5\n",
      "3/3 [==============================] - 0s 1ms/step - loss: 0.6233 - accuracy: 1.0000\n",
      "Epoch 3/5\n",
      "3/3 [==============================] - 0s 1ms/step - loss: 0.5648 - accuracy: 1.0000\n",
      "Epoch 4/5\n",
      "3/3 [==============================] - 0s 1ms/step - loss: 0.4953 - accuracy: 1.0000\n",
      "Epoch 5/5\n",
      "3/3 [==============================] - 0s 1ms/step - loss: 0.4121 - accuracy: 1.0000\n"
     ]
    },
    {
     "data": {
      "text/plain": [
       "<tensorflow.python.keras.callbacks.History at 0x2309d7dd4f0>"
      ]
     },
     "execution_count": 216,
     "metadata": {},
     "output_type": "execute_result"
    }
   ],
   "source": [
    "# training\n",
    "model.fit(tfidf_train, Train_Y, epochs=5, batch_size=64)"
   ]
  },
  {
   "cell_type": "code",
   "execution_count": 217,
   "metadata": {},
   "outputs": [
    {
     "name": "stdout",
     "output_type": "stream",
     "text": [
      "WARNING:tensorflow:6 out of the last 11 calls to <function Model.make_test_function.<locals>.test_function at 0x000002309DA29700> triggered tf.function retracing. Tracing is expensive and the excessive number of tracings could be due to (1) creating @tf.function repeatedly in a loop, (2) passing tensors with different shapes, (3) passing Python objects instead of tensors. For (1), please define your @tf.function outside of the loop. For (2), @tf.function has experimental_relax_shapes=True option that relaxes argument shapes that can avoid unnecessary retracing. For (3), please refer to https://www.tensorflow.org/tutorials/customization/performance#python_or_tensor_args and https://www.tensorflow.org/api_docs/python/tf/function for  more details.\n",
      "Accuracy: 100.00%\n"
     ]
    }
   ],
   "source": [
    "# Final evaluation of the model\n",
    "scores = model.evaluate(tfidf_test, Test_Y, verbose=0)\n",
    "print(\"Accuracy: %.2f%%\" % (scores[1]*100))\n"
   ]
  },
  {
   "cell_type": "markdown",
   "metadata": {},
   "source": [
    "# Adjust for Overfitting"
   ]
  },
  {
   "cell_type": "code",
   "execution_count": 218,
   "metadata": {},
   "outputs": [],
   "source": [
    "#deploy early stopping and dropout \n",
    "from tensorflow.keras.callbacks import EarlyStopping\n",
    "es = EarlyStopping(monitor='val_loss', mode='min')\n",
    "import keras"
   ]
  },
  {
   "cell_type": "code",
   "execution_count": 228,
   "metadata": {},
   "outputs": [],
   "source": [
    "model1 = tf.keras.models.Sequential([\n",
    "    tf.keras.layers.Dense(64, input_dim=1624, activation='relu'),\n",
    "    keras.layers.Dropout(rate=0.75),\n",
    "    tf.keras.layers.Dense(64, activation='relu'),\n",
    "    keras.layers.Dropout(rate=0.75),\n",
    "    tf.keras.layers.Dense(2, activation='softmax')\n",
    "])\n",
    "\n",
    "model1.compile(optimizer='adam',  loss='sparse_categorical_crossentropy',  metrics=['accuracy'])\n",
    "\n",
    "es = EarlyStopping(monitor='val_loss', mode='min', verbose=1)"
   ]
  },
  {
   "cell_type": "code",
   "execution_count": 229,
   "metadata": {},
   "outputs": [
    {
     "name": "stdout",
     "output_type": "stream",
     "text": [
      "Epoch 1/5\n",
      "3/3 [==============================] - 0s 5ms/step - loss: 0.6650 - accuracy: 0.6714\n",
      "Epoch 2/5\n",
      "3/3 [==============================] - 0s 3ms/step - loss: 0.6366 - accuracy: 0.7929\n",
      "Epoch 3/5\n",
      "3/3 [==============================] - 0s 0s/step - loss: 0.6076 - accuracy: 0.9071\n",
      "Epoch 4/5\n",
      "3/3 [==============================] - 0s 2ms/step - loss: 0.5642 - accuracy: 0.9786\n",
      "Epoch 5/5\n",
      "3/3 [==============================] - 0s 2ms/step - loss: 0.5532 - accuracy: 0.9643\n"
     ]
    },
    {
     "data": {
      "text/plain": [
       "<tensorflow.python.keras.callbacks.History at 0x2309c0cf6a0>"
      ]
     },
     "execution_count": 229,
     "metadata": {},
     "output_type": "execute_result"
    }
   ],
   "source": [
    "# training\n",
    "model1.fit(tfidf_train, Train_Y, epochs=5, batch_size=64)"
   ]
  },
  {
   "cell_type": "code",
   "execution_count": 230,
   "metadata": {},
   "outputs": [
    {
     "name": "stdout",
     "output_type": "stream",
     "text": [
      "WARNING:tensorflow:6 out of the last 11 calls to <function Model.make_test_function.<locals>.test_function at 0x00000230A206F1F0> triggered tf.function retracing. Tracing is expensive and the excessive number of tracings could be due to (1) creating @tf.function repeatedly in a loop, (2) passing tensors with different shapes, (3) passing Python objects instead of tensors. For (1), please define your @tf.function outside of the loop. For (2), @tf.function has experimental_relax_shapes=True option that relaxes argument shapes that can avoid unnecessary retracing. For (3), please refer to https://www.tensorflow.org/tutorials/customization/performance#python_or_tensor_args and https://www.tensorflow.org/api_docs/python/tf/function for  more details.\n",
      "Accuracy: 100.00%\n"
     ]
    }
   ],
   "source": [
    "# Final evaluation of the model\n",
    "scores = model1.evaluate(tfidf_test, Test_Y, verbose=0)\n",
    "print(\"Accuracy: %.2f%%\" % (scores[1]*100))"
   ]
  },
  {
   "cell_type": "code",
   "execution_count": null,
   "metadata": {},
   "outputs": [],
   "source": []
  }
 ],
 "metadata": {
  "kernelspec": {
   "display_name": "Python 3",
   "language": "python",
   "name": "python3"
  },
  "language_info": {
   "codemirror_mode": {
    "name": "ipython",
    "version": 3
   },
   "file_extension": ".py",
   "mimetype": "text/x-python",
   "name": "python",
   "nbconvert_exporter": "python",
   "pygments_lexer": "ipython3",
   "version": "3.8.3"
  }
 },
 "nbformat": 4,
 "nbformat_minor": 4
}
